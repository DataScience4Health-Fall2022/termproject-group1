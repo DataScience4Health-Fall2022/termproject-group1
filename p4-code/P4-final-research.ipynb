{
 "cells": [
  {
   "cell_type": "code",
   "execution_count": 1,
   "id": "77a3fd1f",
   "metadata": {},
   "outputs": [],
   "source": [
    "import pandas as pd\n",
    "import numpy as np\n",
    "import pickle\n",
    "from matplotlib import pyplot as plt\n",
    "from sklearn.linear_model import LogisticRegression, Ridge, Lasso \n",
    "from sklearn.model_selection import train_test_split \n",
    "from sklearn.metrics import classification_report\n",
    "from scipy.signal import find_peaks"
   ]
  },
  {
   "cell_type": "code",
   "execution_count": 2,
   "id": "48967f74",
   "metadata": {
    "scrolled": true
   },
   "outputs": [],
   "source": [
    "# opening the dataset\n",
    "f = open('./dataset_OSAS.pickle', 'rb')\n",
    "data = pickle.load(f)\n",
    "f.close()"
   ]
  },
  {
   "cell_type": "code",
   "execution_count": 3,
   "id": "e45423c2",
   "metadata": {},
   "outputs": [
    {
     "name": "stderr",
     "output_type": "stream",
     "text": [
      "/Users/piperfrances/miniconda3/envs/ds4h/lib/python3.10/site-packages/numpy/core/_methods.py:265: RuntimeWarning: Degrees of freedom <= 0 for slice\n",
      "  ret = _var(a, axis=axis, dtype=dtype, out=out, ddof=ddof,\n",
      "/Users/piperfrances/miniconda3/envs/ds4h/lib/python3.10/site-packages/numpy/core/_methods.py:223: RuntimeWarning: invalid value encountered in divide\n",
      "  arrmean = um.true_divide(arrmean, div, out=arrmean, casting='unsafe',\n",
      "/Users/piperfrances/miniconda3/envs/ds4h/lib/python3.10/site-packages/numpy/core/_methods.py:257: RuntimeWarning: invalid value encountered in double_scalars\n",
      "  ret = ret.dtype.type(ret / rcount)\n",
      "/Users/piperfrances/miniconda3/envs/ds4h/lib/python3.10/site-packages/numpy/core/fromnumeric.py:3432: RuntimeWarning: Mean of empty slice.\n",
      "  return _methods._mean(a, axis=axis, dtype=dtype,\n",
      "/Users/piperfrances/miniconda3/envs/ds4h/lib/python3.10/site-packages/numpy/core/_methods.py:190: RuntimeWarning: invalid value encountered in double_scalars\n",
      "  ret = ret.dtype.type(ret / rcount)\n"
     ]
    }
   ],
   "source": [
    "# 1600 in one 20 second window \n",
    "# finding windows, extracting features \n",
    "\n",
    "patients = ['1', '10', '11', '12', '13', '14', '15', '16', '17', '18', '2',\n",
    "       '19', '20', '21', '22', '23', '24', '25', '26', '3', '27', '28',\n",
    "       '29', '30', '4', '5', '6', '7', '8', '9']\n",
    "\n",
    "smaller_event = []\n",
    "\n",
    "feature_dict = {}\n",
    "\n",
    "features = ['PSG_Flow', 'PSG_Thorax', 'PSG_Abdomen', 'signal_ecg_i', 'signal_ecg_ii']\n",
    "feature_dict['y'] = []\n",
    "feature_dict['patient'] = []\n",
    "\n",
    "for f in features:\n",
    "    feature_dict[f+'_std'] = []\n",
    "    feature_dict[f+'_rms'] = []\n",
    "    feature_dict[f+'_med'] = []\n",
    "    for pt in patients:\n",
    "\n",
    "        patient = data[data['patient'] == pt]\n",
    "\n",
    "        psg = list(patient[f])\n",
    "        big_arr = np.array(psg).flatten()\n",
    "        event_arr = list(patient['event'])\n",
    "        ev_arr = np.array(event_arr).flatten()\n",
    "\n",
    "        start = 0\n",
    "        \n",
    "        if f == 'PSG_Flow':\n",
    "            high_window = 400\n",
    "            prom = 0.5\n",
    "            add = 200\n",
    "            \n",
    "        elif f == 'PSG_Thorax':\n",
    "            high_window = 200\n",
    "            prom = 0.1\n",
    "            add = 100\n",
    "        \n",
    "        elif f == 'PSG_Abdomen':\n",
    "            high_window = 200\n",
    "            prom = 0.2\n",
    "            add = 100\n",
    "            \n",
    "        elif f == 'PSG_Snore':\n",
    "            high_window = 200\n",
    "            thresh = 1\n",
    "            dist = 10\n",
    "            add = 100\n",
    "        \n",
    "        else:\n",
    "            # signal_ecg_i and signal_ecg_ii\n",
    "            high_window = 1600\n",
    "            thresh = 2.2\n",
    "            add = 800\n",
    "            \n",
    "        \n",
    "        while start + high_window < len(big_arr):\n",
    "            if f == 'PSG_Snore':\n",
    "                interval = find_peaks(big_arr[start:start + high_window], threshold = thresh, distance = dist)[0]\n",
    "            elif high_window != 800:\n",
    "                interval = find_peaks(big_arr[start:start + high_window], prominence = prom)[0]\n",
    "            else:\n",
    "                interval = find_peaks(big_arr[start:start + high_window], threshold = thresh)[0]\n",
    "            feature_dict[f+'_std'] = np.append(feature_dict[f+'_std'], np.std(interval))\n",
    "            feature_dict[f+'_rms'] = np.append(feature_dict[f+'_rms'], np.sqrt(np.mean(interval**2)))\n",
    "            feature_dict[f+'_med'] = np.append(feature_dict[f+'_med'], np.median(interval))\n",
    "            start += add\n",
    "\n",
    "        if f == 'PSG_Flow':\n",
    "            start_ev = 0\n",
    "            while start_ev + 20 < len(ev_arr):\n",
    "                feature_dict['patient'] = np.append(feature_dict['patient'], pt)\n",
    "                ev_apnea = 'APNEA-CENTRAL' in ev_arr[start_ev:start_ev+20]\n",
    "                if ev_apnea == False:\n",
    "                    ev_apnea = 'APNEA-MIXED' in ev_arr[start_ev:start_ev+20]\n",
    "                    if ev_apnea == False:\n",
    "                        ev_apnea = 'APNEA-OBSTRUCTIVE' in ev_arr[start_ev:start_ev+20]\n",
    "                ev_hypopnea = 'HYPOPNEA' in ev_arr[start_ev:start_ev+20]\n",
    "                if ev_apnea == True:\n",
    "                    feature_dict['y'] = np.append(feature_dict['y'], 1)\n",
    "                elif ev_hypopnea == True:\n",
    "                    feature_dict['y'] = np.append(feature_dict['y'], 2)\n",
    "                else:\n",
    "                    feature_dict['y'] = np.append(feature_dict['y'], 0)\n",
    "                start_ev += 10\n",
    "\n"
   ]
  },
  {
   "cell_type": "code",
   "execution_count": 7,
   "id": "d34931c4",
   "metadata": {},
   "outputs": [],
   "source": [
    "# make it into a pandas dataframe\n",
    "df = pd.DataFrame.from_dict(feature_dict)"
   ]
  },
  {
   "cell_type": "code",
   "execution_count": 99,
   "id": "e081e510",
   "metadata": {},
   "outputs": [],
   "source": [
    "#df.to_pickle(\"psg_ecg_all_features.pkl\")"
   ]
  },
  {
   "cell_type": "code",
   "execution_count": 8,
   "id": "21d2b4fe",
   "metadata": {},
   "outputs": [],
   "source": [
    "# remove NaNs from df \n",
    "\n",
    "heads = ['PSG_Flow_std','PSG_Flow_rms','PSG_Flow_med',\n",
    "                       'PSG_Thorax_std','PSG_Thorax_rms', 'PSG_Thorax_med',\n",
    "                       'PSG_Abdomen_std', 'PSG_Abdomen_rms', 'PSG_Abdomen_med',\n",
    "                       'signal_ecg_i_std', 'signal_ecg_i_rms', 'signal_ecg_i_med',\n",
    "                       'signal_ecg_ii_std', 'signal_ecg_ii_rms', 'signal_ecg_ii_med',\n",
    "                       #'PSG_Snore_std','PSG_Snore_rms', 'PSG_Snore_med'\n",
    "        ]\n",
    "\n",
    "psg_no_ecg = ['PSG_Flow_std','PSG_Flow_rms', 'PSG_Flow_med',\n",
    "                       'PSG_Thorax_std','PSG_Thorax_rms', 'PSG_Thorax_med',\n",
    "                       'PSG_Abdomen_std', 'PSG_Abdomen_rms', 'PSG_Abdomen_med',\n",
    "                       #'PSG_Snore_std','PSG_Snore_rms', 'PSG_Snore_med'\n",
    "             ]\n",
    "\n",
    "ecg_only = ['signal_ecg_i_std', 'signal_ecg_i_rms', 'signal_ecg_i_med',\n",
    "                       'signal_ecg_ii_std', 'signal_ecg_ii_rms', 'signal_ecg_ii_med']\n",
    "\n",
    "psg_rms = ['PSG_Flow_rms',\n",
    "                       'PSG_Thorax_rms',\n",
    "                       'PSG_Abdomen_rms',\n",
    "                       #'PSG_Snore_rms'\n",
    "          ]\n",
    "\n",
    "psg_std = ['PSG_Flow_std',\n",
    "                       'PSG_Thorax_std',\n",
    "                       'PSG_Abdomen_std',\n",
    "                       #'PSG_Snore_std'\n",
    "          ]\n",
    "\n",
    "psg_med = ['PSG_Flow_med',\n",
    "                       'PSG_Thorax_med',\n",
    "                       'PSG_Abdomen_med',\n",
    "                       #'PSG_Snore_med'\n",
    "          ]\n",
    "\n",
    "label_array = [heads, psg_no_ecg, ecg_only, psg_rms, psg_std, psg_med]\n",
    "\n",
    "df = df.dropna(subset=heads)\n",
    "subset = df[heads]\n",
    "x = subset.to_numpy()\n",
    "y = df['y'].to_numpy()\n"
   ]
  },
  {
   "cell_type": "markdown",
   "id": "a74fe1b6",
   "metadata": {},
   "source": [
    "## 3 Class Logistic Regression \n",
    "### 'NONE', 'APNEA', 'HYPOPNEA'"
   ]
  },
  {
   "cell_type": "code",
   "execution_count": 9,
   "id": "cec765cf",
   "metadata": {},
   "outputs": [
    {
     "name": "stderr",
     "output_type": "stream",
     "text": [
      "/Users/piperfrances/miniconda3/envs/ds4h/lib/python3.10/site-packages/sklearn/linear_model/_logistic.py:444: ConvergenceWarning: lbfgs failed to converge (status=1):\n",
      "STOP: TOTAL NO. of ITERATIONS REACHED LIMIT.\n",
      "\n",
      "Increase the number of iterations (max_iter) or scale the data as shown in:\n",
      "    https://scikit-learn.org/stable/modules/preprocessing.html\n",
      "Please also refer to the documentation for alternative solver options:\n",
      "    https://scikit-learn.org/stable/modules/linear_model.html#logistic-regression\n",
      "  n_iter_i = _check_optimize_result(\n"
     ]
    },
    {
     "name": "stdout",
     "output_type": "stream",
     "text": [
      "all\n",
      "              precision    recall  f1-score   support\n",
      "\n",
      "        None       0.49      0.52      0.51      9164\n",
      "       APNEA       0.49      0.46      0.48      9239\n",
      "    HYPOPNEA       0.47      0.47      0.47      9221\n",
      "\n",
      "    accuracy                           0.48     27624\n",
      "   macro avg       0.48      0.48      0.48     27624\n",
      "weighted avg       0.48      0.48      0.48     27624\n",
      "\n",
      "psg only\n",
      "              precision    recall  f1-score   support\n",
      "\n",
      "        None       0.50      0.59      0.54      9164\n",
      "       APNEA       0.48      0.32      0.38      9239\n",
      "    HYPOPNEA       0.49      0.57      0.52      9221\n",
      "\n",
      "    accuracy                           0.49     27624\n",
      "   macro avg       0.49      0.49      0.48     27624\n",
      "weighted avg       0.49      0.49      0.48     27624\n",
      "\n"
     ]
    },
    {
     "name": "stderr",
     "output_type": "stream",
     "text": [
      "/Users/piperfrances/miniconda3/envs/ds4h/lib/python3.10/site-packages/sklearn/linear_model/_logistic.py:444: ConvergenceWarning: lbfgs failed to converge (status=1):\n",
      "STOP: TOTAL NO. of ITERATIONS REACHED LIMIT.\n",
      "\n",
      "Increase the number of iterations (max_iter) or scale the data as shown in:\n",
      "    https://scikit-learn.org/stable/modules/preprocessing.html\n",
      "Please also refer to the documentation for alternative solver options:\n",
      "    https://scikit-learn.org/stable/modules/linear_model.html#logistic-regression\n",
      "  n_iter_i = _check_optimize_result(\n"
     ]
    },
    {
     "name": "stdout",
     "output_type": "stream",
     "text": [
      "ecg only\n",
      "              precision    recall  f1-score   support\n",
      "\n",
      "        None       0.47      0.58      0.52      9164\n",
      "       APNEA       0.45      0.44      0.45      9239\n",
      "    HYPOPNEA       0.37      0.30      0.33      9221\n",
      "\n",
      "    accuracy                           0.44     27624\n",
      "   macro avg       0.43      0.44      0.43     27624\n",
      "weighted avg       0.43      0.44      0.43     27624\n",
      "\n",
      "psg root mean square\n",
      "              precision    recall  f1-score   support\n",
      "\n",
      "        None       0.39      0.33      0.36      9164\n",
      "       APNEA       0.47      0.39      0.43      9239\n",
      "    HYPOPNEA       0.44      0.58      0.50      9221\n",
      "\n",
      "    accuracy                           0.43     27624\n",
      "   macro avg       0.43      0.43      0.43     27624\n",
      "weighted avg       0.43      0.43      0.43     27624\n",
      "\n",
      "psg standard deviation\n",
      "              precision    recall  f1-score   support\n",
      "\n",
      "        None       0.44      0.65      0.53      9164\n",
      "       APNEA       0.47      0.26      0.33      9239\n",
      "    HYPOPNEA       0.48      0.47      0.47      9221\n",
      "\n",
      "    accuracy                           0.46     27624\n",
      "   macro avg       0.46      0.46      0.45     27624\n",
      "weighted avg       0.46      0.46      0.44     27624\n",
      "\n",
      "psg median\n",
      "              precision    recall  f1-score   support\n",
      "\n",
      "        None       0.39      0.28      0.33      9164\n",
      "       APNEA       0.47      0.41      0.43      9239\n",
      "    HYPOPNEA       0.43      0.61      0.50      9221\n",
      "\n",
      "    accuracy                           0.43     27624\n",
      "   macro avg       0.43      0.43      0.42     27624\n",
      "weighted avg       0.43      0.43      0.42     27624\n",
      "\n"
     ]
    }
   ],
   "source": [
    "# training on: heads, psg_no_ecg, ecg_only, psg_rms psg_std, psg_med\n",
    "tests = ['all', 'psg only', 'ecg only', 'psg root mean square', 'psg standard deviation', 'psg median']\n",
    "\n",
    "from imblearn.over_sampling import SMOTE\n",
    "from sklearn.metrics import mean_squared_error\n",
    "from sklearn.metrics import roc_curve, roc_auc_score\n",
    "\n",
    "for labels in range(len(label_array)):\n",
    "\n",
    "    subset = df[label_array[labels]]\n",
    "    reshape = np.shape(subset)[1]\n",
    "\n",
    "    x = subset.to_numpy()\n",
    "    y = df['y'].to_numpy()\n",
    "\n",
    "    oversample = SMOTE()\n",
    "    #x = x.reshape(-1, 1)\n",
    "    y = y.reshape(-1, 1)\n",
    "    x, y = oversample.fit_resample(x, y)\n",
    "    x_train, x_test, y_train, y_test = train_test_split(x, y, test_size=0.2, train_size=0.8, random_state = 0)\n",
    "\n",
    "    logModel = LogisticRegression(multi_class = 'multinomial')\n",
    "    x_train = x_train.reshape(-1, reshape)\n",
    "    x_test = x_test.reshape(-1, reshape)\n",
    "    logModel.fit(x_train, y_train)\n",
    "    y_pred = logModel.predict(x_test)\n",
    "    mean_squared_error(y_test, y_pred)\n",
    "    report = classification_report(y_test, y_pred, target_names=['None', 'APNEA', 'HYPOPNEA'])\n",
    "    print(tests[labels])\n",
    "    print(report)"
   ]
  },
  {
   "cell_type": "markdown",
   "id": "8b9c81f3",
   "metadata": {},
   "source": [
    "## Now 2 Classes"
   ]
  },
  {
   "cell_type": "code",
   "execution_count": 10,
   "id": "5f22eb97",
   "metadata": {
    "scrolled": false
   },
   "outputs": [
    {
     "name": "stderr",
     "output_type": "stream",
     "text": [
      "/Users/piperfrances/miniconda3/envs/ds4h/lib/python3.10/site-packages/sklearn/linear_model/_logistic.py:444: ConvergenceWarning: lbfgs failed to converge (status=1):\n",
      "STOP: TOTAL NO. of ITERATIONS REACHED LIMIT.\n",
      "\n",
      "Increase the number of iterations (max_iter) or scale the data as shown in:\n",
      "    https://scikit-learn.org/stable/modules/preprocessing.html\n",
      "Please also refer to the documentation for alternative solver options:\n",
      "    https://scikit-learn.org/stable/modules/linear_model.html#logistic-regression\n",
      "  n_iter_i = _check_optimize_result(\n"
     ]
    },
    {
     "name": "stdout",
     "output_type": "stream",
     "text": [
      "all\n",
      "              precision    recall  f1-score   support\n",
      "\n",
      "        None       0.66      0.69      0.67      9193\n",
      "       APNEA       0.68      0.64      0.66      9223\n",
      "\n",
      "    accuracy                           0.67     18416\n",
      "   macro avg       0.67      0.67      0.66     18416\n",
      "weighted avg       0.67      0.67      0.66     18416\n",
      "\n",
      "psg only\n",
      "              precision    recall  f1-score   support\n",
      "\n",
      "        None       0.64      0.70      0.67      9193\n",
      "       APNEA       0.67      0.61      0.64      9223\n",
      "\n",
      "    accuracy                           0.65     18416\n",
      "   macro avg       0.66      0.65      0.65     18416\n",
      "weighted avg       0.66      0.65      0.65     18416\n",
      "\n",
      "ecg only\n",
      "              precision    recall  f1-score   support\n",
      "\n",
      "        None       0.63      0.57      0.60      9193\n",
      "       APNEA       0.61      0.66      0.63      9223\n",
      "\n",
      "    accuracy                           0.62     18416\n",
      "   macro avg       0.62      0.62      0.62     18416\n",
      "weighted avg       0.62      0.62      0.62     18416\n",
      "\n",
      "psg root mean square\n",
      "              precision    recall  f1-score   support\n",
      "\n",
      "        None       0.56      0.54      0.55      9193\n",
      "       APNEA       0.56      0.58      0.57      9223\n",
      "\n",
      "    accuracy                           0.56     18416\n",
      "   macro avg       0.56      0.56      0.56     18416\n",
      "weighted avg       0.56      0.56      0.56     18416\n",
      "\n",
      "psg standard deviation\n",
      "              precision    recall  f1-score   support\n",
      "\n",
      "        None       0.61      0.73      0.66      9193\n",
      "       APNEA       0.66      0.54      0.59      9223\n",
      "\n",
      "    accuracy                           0.63     18416\n",
      "   macro avg       0.64      0.63      0.63     18416\n",
      "weighted avg       0.64      0.63      0.63     18416\n",
      "\n",
      "psg median\n",
      "              precision    recall  f1-score   support\n",
      "\n",
      "        None       0.55      0.52      0.53      9193\n",
      "       APNEA       0.54      0.57      0.56      9223\n",
      "\n",
      "    accuracy                           0.54     18416\n",
      "   macro avg       0.54      0.54      0.54     18416\n",
      "weighted avg       0.54      0.54      0.54     18416\n",
      "\n"
     ]
    }
   ],
   "source": [
    "# training on: heads, psg_no_ecg, ecg_only, psg_rms psg_std, psg_med\n",
    "tests = ['all', 'psg only', 'ecg only', 'psg root mean square', 'psg standard deviation', 'psg median']\n",
    "\n",
    "from imblearn.over_sampling import SMOTE\n",
    "from sklearn.metrics import mean_squared_error\n",
    "from sklearn import svm, datasets\n",
    "from sklearn.metrics import roc_curve, auc\n",
    "from sklearn.model_selection import train_test_split\n",
    "from sklearn.preprocessing import label_binarize\n",
    "from sklearn.multiclass import OneVsRestClassifier\n",
    "from sklearn.metrics import roc_auc_score\n",
    "\n",
    "df.loc[df['y'] == 2 , 'y'] = 1\n",
    "\n",
    "for labels in range(len(label_array)):\n",
    "\n",
    "    subset = df[label_array[labels]]\n",
    "    reshape = np.shape(subset)[1]\n",
    "\n",
    "    x = subset.to_numpy()\n",
    "    y = df['y'].to_numpy()\n",
    "\n",
    "    oversample = SMOTE()\n",
    "    #x = x.reshape(-1, 1)\n",
    "    y = y.reshape(-1, 1)\n",
    "    x, y = oversample.fit_resample(x, y)\n",
    "    x_train, x_test, y_train, y_test = train_test_split(x, y, test_size=0.2, train_size=0.8, random_state = 0)\n",
    "\n",
    "    logModel = LogisticRegression(multi_class = 'ovr')\n",
    "    x_train = x_train.reshape(-1, reshape)\n",
    "    x_test = x_test.reshape(-1, reshape)\n",
    "    logModel.fit(x_train, y_train)\n",
    "    y_pred = logModel.predict(x_test)\n",
    "    mean_squared_error(y_test, y_pred)\n",
    "    report = classification_report(y_test, y_pred, target_names=['None', 'APNEA'])\n",
    "    print(tests[labels])\n",
    "    print(report)\n",
    "    \n",
    "#     y_predicted = logModel.predict(x)\n",
    "#     y_filtered = []\n",
    "#     i = 0\n",
    "#     while i < len(y_predicted):\n",
    "#         y_filtered.append(y_predicted[i])\n",
    "#         i = i + 1\n",
    "    \n",
    "#     fpr, tpr, thresholds = roc_curve(y, y_filtered)\n",
    "#     auc = round(roc_auc_score(y, y_filtered), 2)\n",
    "#     plt.plot(fpr, tpr, '-', label = \"feature = \" + tests[labels]+\", AUC = \"+str(auc))\n",
    "#     plt.xlabel(\"False Positive Rate\")\n",
    "#     plt.ylabel(\"True Positive Rate\")\n",
    "#     plt.title(\"ROC Curve\")\n",
    "#     plt.legend(bbox_to_anchor=(1,0), loc=\"lower left\")\n",
    "\n",
    "# Learn to predict each class against the other\n",
    "#     classifier = OneVsRestClassifier(\n",
    "#         svm.SVC(kernel=\"linear\", probability=True)\n",
    "#     )\n",
    "#     y_score = classifier.fit(x_train, y_train).decision_function(x_test)\n",
    "\n",
    "#     # Compute micro-average ROC curve and ROC area\n",
    "#     y_pred = logisticModel.predict_proba(x)\n",
    "#     y_filtered = []\n",
    "#     i = 0\n",
    "#     while i < len(y_pred):\n",
    "#         y_filtered.append(y_pred[i][1])\n",
    "#         i = i + 1\n",
    "#     plt.plot(fpr, tpr, '-', label = \"feautre = \" + str(tests[labels]))\n",
    "    \n",
    "#     plt.xlabel(\"False Positive Rate\")\n",
    "#     plt.ylabel(\"True Positive Rate\")\n",
    "#     plt.title(\"ROC Curve\")\n",
    "#     plt.legend(loc=\"lower right\")\n",
    "#     plt.show()"
   ]
  },
  {
   "cell_type": "code",
   "execution_count": 40,
   "id": "8d4ed578",
   "metadata": {},
   "outputs": [
    {
     "data": {
      "application/vnd.plotly.v1+json": {
       "config": {
        "plotlyServerURL": "https://plot.ly"
       },
       "data": [
        {
         "mode": "lines+markers",
         "name": "PSG_Abdomen",
         "type": "scatter",
         "y": [
          1.5253468501127572,
          1.3656199677558876,
          1.1876151163253714,
          1.0127636841832426,
          0.8413647942260745,
          0.6616722244878604,
          0.4615722514881388,
          0.2703209793466112,
          0.09804282543481667,
          -0.021067047058295683,
          -0.10343752307639789,
          -0.16800521864424847,
          -0.20750570722542105,
          -0.23655667443140233,
          -0.2365740923257443,
          -0.20280144110208567,
          -0.1550574615350505,
          -0.08958855530774684,
          0.025843347703331892,
          0.15877702263575025,
          0.31273744212581384,
          0.5104713815417455,
          0.7005122772873821,
          0.8802656825218584,
          1.0388528316343064,
          1.1674141240633258,
          1.2730754660539234,
          1.3732066693501515,
          1.4538443612415421,
          1.4884601510926574,
          1.4712699056237228,
          1.3831979676932682,
          1.2416404482118,
          1.0401897154384754,
          0.8269268782638003,
          0.6260221173510334,
          0.47568559319821807,
          0.3761320933839257,
          0.291855667458335,
          0.20416022916214532,
          0.11513742940617835,
          0.006453610926043652,
          -0.11081078971747207,
          -0.21309058234850148,
          -0.2623050410988728,
          -0.2602878240371753,
          -0.2505671180244986,
          -0.24784065046367093,
          -0.22952885284860813,
          -0.2288916222245183,
          -0.27210403303195896,
          -0.31572167399845086,
          -0.3815449739431738,
          -0.41626127054014433,
          -0.4250555652330555,
          -0.36479510069089427,
          -0.2561571897480295,
          -0.08278493075594878,
          0.07723514636682356,
          0.23311900919299325,
          0.34823663624358997,
          0.43667629622243687,
          0.5296332656654865,
          0.6386145551074957,
          0.7403701498632298,
          0.8305515211356129,
          0.8814717546382458,
          0.847242601362777,
          0.7520358587343327,
          0.599749041687475,
          0.4127744505581076,
          0.214531387635058,
          0.04243811169778347,
          -0.09352881516663056,
          -0.16743151780134805,
          -0.19714166881524703,
          -0.2104000066103827,
          -0.2261942936896827,
          -0.2567487757718993,
          -0.32267275077053065,
          -0.37467179684586815,
          -0.40147932259531144,
          -0.4300534955057052,
          -0.4359014085565487,
          -0.4188571995683283,
          -0.430531584893534,
          -0.43572724403551405,
          -0.4231549328061021,
          -0.41436703504602507,
          -0.3970218965754002,
          -0.35586828217392313,
          -0.274959786512922,
          -0.16971966949150896,
          -0.02982834400726729,
          0.11740566872215752,
          0.2698468854055512,
          0.390264270184601,
          0.5068951070680471,
          0.5705347308460477,
          0.5976552152773953,
          0.5888256277747643,
          0.5554369643664807,
          0.47546382575651897,
          0.3629403682283753,
          0.23784389650758714,
          0.1253908377429324,
          0.005672584193943602,
          -0.10416130846488102,
          -0.17744076304255457,
          -0.2405736835262221,
          -0.3081885959622697,
          -0.3774662257597998,
          -0.41654223181990097,
          -0.4521388074196033,
          -0.48000585109756916,
          -0.4944460043033441,
          -0.48765805069767854,
          -0.4840075501397553,
          -0.4750314724338414,
          -0.444699795711646,
          -0.4138119749737643,
          -0.3865619773726788,
          -0.3738176231653199,
          -0.3624120986438595,
          -0.3752070863665,
          -0.3999281177974484,
          -0.4259435418475534,
          -0.4414297067091474,
          -0.4424459263349157,
          -0.4344564229817148,
          -0.40842042995571604,
          -0.3635503029268389,
          -0.30306234672440074,
          -0.25860651291838144,
          -0.19992789529674662,
          -0.15034726821933722,
          -0.10173762712497078,
          -0.07208470341562413,
          -0.028639414291156674,
          0.0027660274347174624,
          0.03708360834415634,
          0.05763887544100212,
          0.07330396168609093,
          0.07349944278835656,
          0.05948401106256674,
          0.018307743041835283,
          -0.04099191156319823,
          -0.11154821083010759,
          -0.19209356495057983,
          -0.27658294030174213,
          -0.33589868218659136,
          -0.37911692688593746,
          -0.4057289735828122,
          -0.40257693965235203,
          -0.36163663654731687,
          -0.32619849687163693,
          -0.2896046564381468,
          -0.25595512657139563,
          -0.2405064106817114,
          -0.26062084572894695,
          -0.2964255647327127,
          -0.33782329480918033,
          -0.37585263837513194,
          -0.4030034324788279,
          -0.4118404219840143,
          -0.40908200962607005,
          -0.3909901953546289,
          -0.37632012612316856,
          -0.3713327254381608,
          -0.3537953633889891,
          -0.3304019624116972,
          -0.33865538056291306,
          -0.3432349845824583,
          -0.3315839404794172,
          -0.3271772181093821,
          -0.3205198130847118,
          -0.28778654543095633,
          -0.2559179341205131,
          -0.2306349319858639,
          -0.2141067587588759,
          -0.20169859848683416,
          -0.19814217924971747,
          -0.21075408242317287,
          -0.22888273728025796,
          -0.2489775717407626,
          -0.2593932439424991,
          -0.2717050005889908,
          -0.2639297825053112,
          -0.2574875424181783,
          -0.2586606134353661,
          -0.25950453801865064,
          -0.23315994103653795,
          -0.22945398315669038,
          -0.2281939673481796,
          -0.21771370483085198,
          -0.2056704125584488,
          -0.2059408747794946,
          -0.1657410644931736,
          -0.09511129990823598,
          -0.006676442926046101,
          0.08463046308000066,
          0.17259378881973483,
          0.2443509274437604,
          0.2957397406309268,
          0.30933619130264833,
          0.29924213584068726,
          0.26626511996443997,
          0.21419206496288848,
          0.14722363061075827,
          0.09349923926747918,
          0.03468959929779585,
          -0.01964099149239534,
          -0.07530938284239268,
          -0.12200658038173987,
          -0.1643259363197321,
          -0.1629261736708826,
          -0.1479130950246602,
          -0.13633328327865782,
          -0.11900548725573716,
          -0.09287655974952694,
          -0.1003623258373181,
          -0.09892861016576111,
          -0.07702463516029275,
          -0.0616972074048702,
          -0.06098677577367383,
          -0.050659854315026204,
          -0.06330927188760185,
          -0.09449883251891945,
          -0.12661559567349523,
          -0.1581620663527908,
          -0.19534537022803353,
          -0.2197498581775357,
          -0.2244254456433495,
          -0.22013468227340316,
          -0.20094512904402204,
          -0.18230322460859436,
          -0.14895777802971125,
          -0.11816231202900383,
          -0.12892940624262986,
          -0.14880665430933734,
          -0.13501146860090707,
          -0.13798997113101355,
          -0.15300695103877965,
          -0.11420916084890309,
          -0.07251750110739072,
          -0.054448891392887576,
          -0.02958579463511872,
          0.009225514901160093,
          0.02665227726980184,
          0.031391561706348776,
          0.017038979941338322,
          -0.007551751916463788,
          -0.028996568123013457,
          -0.047586781849159945,
          -0.06235323982686118,
          -0.059490322798407276,
          -0.053862428687456165,
          -0.054272904770714246,
          -0.05295008183264304,
          -0.057015970598976624,
          -0.06551083327626911,
          -0.06502338099452462,
          -0.05521069567705118,
          -0.03575746557487976,
          0.007745061725287548,
          0.06192203510442558,
          0.11123581220496033,
          0.15901719686342305,
          0.19853865813750915,
          0.213723245893866,
          0.2094035278922008,
          0.19899983142581704,
          0.1823348947088179,
          0.15912231304864358,
          0.13527651001058377,
          0.10056006073083637,
          0.08617034811624395,
          0.06506864557419777,
          0.04494015927477853,
          0.034495461736942276,
          0.04208525824224248,
          0.06670303689737128,
          0.12627480947577954,
          0.2579895953128153,
          0.4831966316125748,
          0.781797552882179,
          1.0780881225219547,
          1.357838629577971,
          1.6014545834139593,
          1.7761736720651429,
          1.8717765586866641,
          1.9010867662870585,
          1.8925596719071542,
          1.8239364929013575,
          1.707449073819057,
          1.5488610953349091,
          1.3692172669570066,
          1.1658890588901512,
          0.9541776947119636,
          0.7360192707561156,
          0.5259002359422237,
          0.3639661509477867,
          0.21644387764044246,
          0.10253598522390316,
          0.015579461375879344,
          -0.05908622047987161,
          -0.1474255760914722,
          -0.18913982978523633,
          -0.19923624946235735,
          -0.14424316457126976,
          -0.028584540993810942,
          0.11488016778532716,
          0.30735553496524315,
          0.5285800707118347,
          0.7650393701245574,
          1.013906464544713,
          1.33137770645459,
          1.6414638217403168,
          1.939230836916215,
          2.1998681493451975
         ]
        },
        {
         "marker": {
          "color": "red",
          "size": 8,
          "symbol": "cross"
         },
         "mode": "markers",
         "name": "Detected Peaks",
         "type": "scatter",
         "x": [
          29,
          66,
          99,
          143,
          204,
          291
         ],
         "y": [
          1.4884601510926574,
          0.8814717546382458,
          0.5976552152773953,
          0.07349944278835656,
          0.30933619130264833,
          1.9010867662870585
         ]
        },
        {
         "name": "Apnea Event",
         "type": "scatter",
         "x": [
          92,
          92,
          280,
          280,
          92
         ],
         "y": [
          -0.75,
          1,
          1,
          -0.75,
          -0.75
         ]
        }
       ],
       "layout": {
        "template": {
         "data": {
          "bar": [
           {
            "error_x": {
             "color": "#2a3f5f"
            },
            "error_y": {
             "color": "#2a3f5f"
            },
            "marker": {
             "line": {
              "color": "#E5ECF6",
              "width": 0.5
             },
             "pattern": {
              "fillmode": "overlay",
              "size": 10,
              "solidity": 0.2
             }
            },
            "type": "bar"
           }
          ],
          "barpolar": [
           {
            "marker": {
             "line": {
              "color": "#E5ECF6",
              "width": 0.5
             },
             "pattern": {
              "fillmode": "overlay",
              "size": 10,
              "solidity": 0.2
             }
            },
            "type": "barpolar"
           }
          ],
          "carpet": [
           {
            "aaxis": {
             "endlinecolor": "#2a3f5f",
             "gridcolor": "white",
             "linecolor": "white",
             "minorgridcolor": "white",
             "startlinecolor": "#2a3f5f"
            },
            "baxis": {
             "endlinecolor": "#2a3f5f",
             "gridcolor": "white",
             "linecolor": "white",
             "minorgridcolor": "white",
             "startlinecolor": "#2a3f5f"
            },
            "type": "carpet"
           }
          ],
          "choropleth": [
           {
            "colorbar": {
             "outlinewidth": 0,
             "ticks": ""
            },
            "type": "choropleth"
           }
          ],
          "contour": [
           {
            "colorbar": {
             "outlinewidth": 0,
             "ticks": ""
            },
            "colorscale": [
             [
              0,
              "#0d0887"
             ],
             [
              0.1111111111111111,
              "#46039f"
             ],
             [
              0.2222222222222222,
              "#7201a8"
             ],
             [
              0.3333333333333333,
              "#9c179e"
             ],
             [
              0.4444444444444444,
              "#bd3786"
             ],
             [
              0.5555555555555556,
              "#d8576b"
             ],
             [
              0.6666666666666666,
              "#ed7953"
             ],
             [
              0.7777777777777778,
              "#fb9f3a"
             ],
             [
              0.8888888888888888,
              "#fdca26"
             ],
             [
              1,
              "#f0f921"
             ]
            ],
            "type": "contour"
           }
          ],
          "contourcarpet": [
           {
            "colorbar": {
             "outlinewidth": 0,
             "ticks": ""
            },
            "type": "contourcarpet"
           }
          ],
          "heatmap": [
           {
            "colorbar": {
             "outlinewidth": 0,
             "ticks": ""
            },
            "colorscale": [
             [
              0,
              "#0d0887"
             ],
             [
              0.1111111111111111,
              "#46039f"
             ],
             [
              0.2222222222222222,
              "#7201a8"
             ],
             [
              0.3333333333333333,
              "#9c179e"
             ],
             [
              0.4444444444444444,
              "#bd3786"
             ],
             [
              0.5555555555555556,
              "#d8576b"
             ],
             [
              0.6666666666666666,
              "#ed7953"
             ],
             [
              0.7777777777777778,
              "#fb9f3a"
             ],
             [
              0.8888888888888888,
              "#fdca26"
             ],
             [
              1,
              "#f0f921"
             ]
            ],
            "type": "heatmap"
           }
          ],
          "heatmapgl": [
           {
            "colorbar": {
             "outlinewidth": 0,
             "ticks": ""
            },
            "colorscale": [
             [
              0,
              "#0d0887"
             ],
             [
              0.1111111111111111,
              "#46039f"
             ],
             [
              0.2222222222222222,
              "#7201a8"
             ],
             [
              0.3333333333333333,
              "#9c179e"
             ],
             [
              0.4444444444444444,
              "#bd3786"
             ],
             [
              0.5555555555555556,
              "#d8576b"
             ],
             [
              0.6666666666666666,
              "#ed7953"
             ],
             [
              0.7777777777777778,
              "#fb9f3a"
             ],
             [
              0.8888888888888888,
              "#fdca26"
             ],
             [
              1,
              "#f0f921"
             ]
            ],
            "type": "heatmapgl"
           }
          ],
          "histogram": [
           {
            "marker": {
             "pattern": {
              "fillmode": "overlay",
              "size": 10,
              "solidity": 0.2
             }
            },
            "type": "histogram"
           }
          ],
          "histogram2d": [
           {
            "colorbar": {
             "outlinewidth": 0,
             "ticks": ""
            },
            "colorscale": [
             [
              0,
              "#0d0887"
             ],
             [
              0.1111111111111111,
              "#46039f"
             ],
             [
              0.2222222222222222,
              "#7201a8"
             ],
             [
              0.3333333333333333,
              "#9c179e"
             ],
             [
              0.4444444444444444,
              "#bd3786"
             ],
             [
              0.5555555555555556,
              "#d8576b"
             ],
             [
              0.6666666666666666,
              "#ed7953"
             ],
             [
              0.7777777777777778,
              "#fb9f3a"
             ],
             [
              0.8888888888888888,
              "#fdca26"
             ],
             [
              1,
              "#f0f921"
             ]
            ],
            "type": "histogram2d"
           }
          ],
          "histogram2dcontour": [
           {
            "colorbar": {
             "outlinewidth": 0,
             "ticks": ""
            },
            "colorscale": [
             [
              0,
              "#0d0887"
             ],
             [
              0.1111111111111111,
              "#46039f"
             ],
             [
              0.2222222222222222,
              "#7201a8"
             ],
             [
              0.3333333333333333,
              "#9c179e"
             ],
             [
              0.4444444444444444,
              "#bd3786"
             ],
             [
              0.5555555555555556,
              "#d8576b"
             ],
             [
              0.6666666666666666,
              "#ed7953"
             ],
             [
              0.7777777777777778,
              "#fb9f3a"
             ],
             [
              0.8888888888888888,
              "#fdca26"
             ],
             [
              1,
              "#f0f921"
             ]
            ],
            "type": "histogram2dcontour"
           }
          ],
          "mesh3d": [
           {
            "colorbar": {
             "outlinewidth": 0,
             "ticks": ""
            },
            "type": "mesh3d"
           }
          ],
          "parcoords": [
           {
            "line": {
             "colorbar": {
              "outlinewidth": 0,
              "ticks": ""
             }
            },
            "type": "parcoords"
           }
          ],
          "pie": [
           {
            "automargin": true,
            "type": "pie"
           }
          ],
          "scatter": [
           {
            "fillpattern": {
             "fillmode": "overlay",
             "size": 10,
             "solidity": 0.2
            },
            "type": "scatter"
           }
          ],
          "scatter3d": [
           {
            "line": {
             "colorbar": {
              "outlinewidth": 0,
              "ticks": ""
             }
            },
            "marker": {
             "colorbar": {
              "outlinewidth": 0,
              "ticks": ""
             }
            },
            "type": "scatter3d"
           }
          ],
          "scattercarpet": [
           {
            "marker": {
             "colorbar": {
              "outlinewidth": 0,
              "ticks": ""
             }
            },
            "type": "scattercarpet"
           }
          ],
          "scattergeo": [
           {
            "marker": {
             "colorbar": {
              "outlinewidth": 0,
              "ticks": ""
             }
            },
            "type": "scattergeo"
           }
          ],
          "scattergl": [
           {
            "marker": {
             "colorbar": {
              "outlinewidth": 0,
              "ticks": ""
             }
            },
            "type": "scattergl"
           }
          ],
          "scattermapbox": [
           {
            "marker": {
             "colorbar": {
              "outlinewidth": 0,
              "ticks": ""
             }
            },
            "type": "scattermapbox"
           }
          ],
          "scatterpolar": [
           {
            "marker": {
             "colorbar": {
              "outlinewidth": 0,
              "ticks": ""
             }
            },
            "type": "scatterpolar"
           }
          ],
          "scatterpolargl": [
           {
            "marker": {
             "colorbar": {
              "outlinewidth": 0,
              "ticks": ""
             }
            },
            "type": "scatterpolargl"
           }
          ],
          "scatterternary": [
           {
            "marker": {
             "colorbar": {
              "outlinewidth": 0,
              "ticks": ""
             }
            },
            "type": "scatterternary"
           }
          ],
          "surface": [
           {
            "colorbar": {
             "outlinewidth": 0,
             "ticks": ""
            },
            "colorscale": [
             [
              0,
              "#0d0887"
             ],
             [
              0.1111111111111111,
              "#46039f"
             ],
             [
              0.2222222222222222,
              "#7201a8"
             ],
             [
              0.3333333333333333,
              "#9c179e"
             ],
             [
              0.4444444444444444,
              "#bd3786"
             ],
             [
              0.5555555555555556,
              "#d8576b"
             ],
             [
              0.6666666666666666,
              "#ed7953"
             ],
             [
              0.7777777777777778,
              "#fb9f3a"
             ],
             [
              0.8888888888888888,
              "#fdca26"
             ],
             [
              1,
              "#f0f921"
             ]
            ],
            "type": "surface"
           }
          ],
          "table": [
           {
            "cells": {
             "fill": {
              "color": "#EBF0F8"
             },
             "line": {
              "color": "white"
             }
            },
            "header": {
             "fill": {
              "color": "#C8D4E3"
             },
             "line": {
              "color": "white"
             }
            },
            "type": "table"
           }
          ]
         },
         "layout": {
          "annotationdefaults": {
           "arrowcolor": "#2a3f5f",
           "arrowhead": 0,
           "arrowwidth": 1
          },
          "autotypenumbers": "strict",
          "coloraxis": {
           "colorbar": {
            "outlinewidth": 0,
            "ticks": ""
           }
          },
          "colorscale": {
           "diverging": [
            [
             0,
             "#8e0152"
            ],
            [
             0.1,
             "#c51b7d"
            ],
            [
             0.2,
             "#de77ae"
            ],
            [
             0.3,
             "#f1b6da"
            ],
            [
             0.4,
             "#fde0ef"
            ],
            [
             0.5,
             "#f7f7f7"
            ],
            [
             0.6,
             "#e6f5d0"
            ],
            [
             0.7,
             "#b8e186"
            ],
            [
             0.8,
             "#7fbc41"
            ],
            [
             0.9,
             "#4d9221"
            ],
            [
             1,
             "#276419"
            ]
           ],
           "sequential": [
            [
             0,
             "#0d0887"
            ],
            [
             0.1111111111111111,
             "#46039f"
            ],
            [
             0.2222222222222222,
             "#7201a8"
            ],
            [
             0.3333333333333333,
             "#9c179e"
            ],
            [
             0.4444444444444444,
             "#bd3786"
            ],
            [
             0.5555555555555556,
             "#d8576b"
            ],
            [
             0.6666666666666666,
             "#ed7953"
            ],
            [
             0.7777777777777778,
             "#fb9f3a"
            ],
            [
             0.8888888888888888,
             "#fdca26"
            ],
            [
             1,
             "#f0f921"
            ]
           ],
           "sequentialminus": [
            [
             0,
             "#0d0887"
            ],
            [
             0.1111111111111111,
             "#46039f"
            ],
            [
             0.2222222222222222,
             "#7201a8"
            ],
            [
             0.3333333333333333,
             "#9c179e"
            ],
            [
             0.4444444444444444,
             "#bd3786"
            ],
            [
             0.5555555555555556,
             "#d8576b"
            ],
            [
             0.6666666666666666,
             "#ed7953"
            ],
            [
             0.7777777777777778,
             "#fb9f3a"
            ],
            [
             0.8888888888888888,
             "#fdca26"
            ],
            [
             1,
             "#f0f921"
            ]
           ]
          },
          "colorway": [
           "#636efa",
           "#EF553B",
           "#00cc96",
           "#ab63fa",
           "#FFA15A",
           "#19d3f3",
           "#FF6692",
           "#B6E880",
           "#FF97FF",
           "#FECB52"
          ],
          "font": {
           "color": "#2a3f5f"
          },
          "geo": {
           "bgcolor": "white",
           "lakecolor": "white",
           "landcolor": "#E5ECF6",
           "showlakes": true,
           "showland": true,
           "subunitcolor": "white"
          },
          "hoverlabel": {
           "align": "left"
          },
          "hovermode": "closest",
          "mapbox": {
           "style": "light"
          },
          "paper_bgcolor": "white",
          "plot_bgcolor": "#E5ECF6",
          "polar": {
           "angularaxis": {
            "gridcolor": "white",
            "linecolor": "white",
            "ticks": ""
           },
           "bgcolor": "#E5ECF6",
           "radialaxis": {
            "gridcolor": "white",
            "linecolor": "white",
            "ticks": ""
           }
          },
          "scene": {
           "xaxis": {
            "backgroundcolor": "#E5ECF6",
            "gridcolor": "white",
            "gridwidth": 2,
            "linecolor": "white",
            "showbackground": true,
            "ticks": "",
            "zerolinecolor": "white"
           },
           "yaxis": {
            "backgroundcolor": "#E5ECF6",
            "gridcolor": "white",
            "gridwidth": 2,
            "linecolor": "white",
            "showbackground": true,
            "ticks": "",
            "zerolinecolor": "white"
           },
           "zaxis": {
            "backgroundcolor": "#E5ECF6",
            "gridcolor": "white",
            "gridwidth": 2,
            "linecolor": "white",
            "showbackground": true,
            "ticks": "",
            "zerolinecolor": "white"
           }
          },
          "shapedefaults": {
           "line": {
            "color": "#2a3f5f"
           }
          },
          "ternary": {
           "aaxis": {
            "gridcolor": "white",
            "linecolor": "white",
            "ticks": ""
           },
           "baxis": {
            "gridcolor": "white",
            "linecolor": "white",
            "ticks": ""
           },
           "bgcolor": "#E5ECF6",
           "caxis": {
            "gridcolor": "white",
            "linecolor": "white",
            "ticks": ""
           }
          },
          "title": {
           "x": 0.05
          },
          "xaxis": {
           "automargin": true,
           "gridcolor": "white",
           "linecolor": "white",
           "ticks": "",
           "title": {
            "standoff": 15
           },
           "zerolinecolor": "white",
           "zerolinewidth": 2
          },
          "yaxis": {
           "automargin": true,
           "gridcolor": "white",
           "linecolor": "white",
           "ticks": "",
           "title": {
            "standoff": 15
           },
           "zerolinecolor": "white",
           "zerolinewidth": 2
          }
         }
        }
       }
      },
      "text/html": [
       "<div>                            <div id=\"3caa135d-241e-4dbe-b0a6-edf25dbd9dcf\" class=\"plotly-graph-div\" style=\"height:525px; width:100%;\"></div>            <script type=\"text/javascript\">                require([\"plotly\"], function(Plotly) {                    window.PLOTLYENV=window.PLOTLYENV || {};                                    if (document.getElementById(\"3caa135d-241e-4dbe-b0a6-edf25dbd9dcf\")) {                    Plotly.newPlot(                        \"3caa135d-241e-4dbe-b0a6-edf25dbd9dcf\",                        [{\"mode\":\"lines+markers\",\"name\":\"PSG_Abdomen\",\"y\":[1.5253468501127572,1.3656199677558876,1.1876151163253714,1.0127636841832426,0.8413647942260745,0.6616722244878604,0.4615722514881388,0.2703209793466112,0.09804282543481667,-0.021067047058295683,-0.10343752307639789,-0.16800521864424847,-0.20750570722542105,-0.23655667443140233,-0.2365740923257443,-0.20280144110208567,-0.1550574615350505,-0.08958855530774684,0.025843347703331892,0.15877702263575025,0.31273744212581384,0.5104713815417455,0.7005122772873821,0.8802656825218584,1.0388528316343064,1.1674141240633258,1.2730754660539234,1.3732066693501515,1.4538443612415421,1.4884601510926574,1.4712699056237228,1.3831979676932682,1.2416404482118,1.0401897154384754,0.8269268782638003,0.6260221173510334,0.47568559319821807,0.3761320933839257,0.291855667458335,0.20416022916214532,0.11513742940617835,0.006453610926043652,-0.11081078971747207,-0.21309058234850148,-0.2623050410988728,-0.2602878240371753,-0.2505671180244986,-0.24784065046367093,-0.22952885284860813,-0.2288916222245183,-0.27210403303195896,-0.31572167399845086,-0.3815449739431738,-0.41626127054014433,-0.4250555652330555,-0.36479510069089427,-0.2561571897480295,-0.08278493075594878,0.07723514636682356,0.23311900919299325,0.34823663624358997,0.43667629622243687,0.5296332656654865,0.6386145551074957,0.7403701498632298,0.8305515211356129,0.8814717546382458,0.847242601362777,0.7520358587343327,0.599749041687475,0.4127744505581076,0.214531387635058,0.04243811169778347,-0.09352881516663056,-0.16743151780134805,-0.19714166881524703,-0.2104000066103827,-0.2261942936896827,-0.2567487757718993,-0.32267275077053065,-0.37467179684586815,-0.40147932259531144,-0.4300534955057052,-0.4359014085565487,-0.4188571995683283,-0.430531584893534,-0.43572724403551405,-0.4231549328061021,-0.41436703504602507,-0.3970218965754002,-0.35586828217392313,-0.274959786512922,-0.16971966949150896,-0.02982834400726729,0.11740566872215752,0.2698468854055512,0.390264270184601,0.5068951070680471,0.5705347308460477,0.5976552152773953,0.5888256277747643,0.5554369643664807,0.47546382575651897,0.3629403682283753,0.23784389650758714,0.1253908377429324,0.005672584193943602,-0.10416130846488102,-0.17744076304255457,-0.2405736835262221,-0.3081885959622697,-0.3774662257597998,-0.41654223181990097,-0.4521388074196033,-0.48000585109756916,-0.4944460043033441,-0.48765805069767854,-0.4840075501397553,-0.4750314724338414,-0.444699795711646,-0.4138119749737643,-0.3865619773726788,-0.3738176231653199,-0.3624120986438595,-0.3752070863665,-0.3999281177974484,-0.4259435418475534,-0.4414297067091474,-0.4424459263349157,-0.4344564229817148,-0.40842042995571604,-0.3635503029268389,-0.30306234672440074,-0.25860651291838144,-0.19992789529674662,-0.15034726821933722,-0.10173762712497078,-0.07208470341562413,-0.028639414291156674,0.0027660274347174624,0.03708360834415634,0.05763887544100212,0.07330396168609093,0.07349944278835656,0.05948401106256674,0.018307743041835283,-0.04099191156319823,-0.11154821083010759,-0.19209356495057983,-0.27658294030174213,-0.33589868218659136,-0.37911692688593746,-0.4057289735828122,-0.40257693965235203,-0.36163663654731687,-0.32619849687163693,-0.2896046564381468,-0.25595512657139563,-0.2405064106817114,-0.26062084572894695,-0.2964255647327127,-0.33782329480918033,-0.37585263837513194,-0.4030034324788279,-0.4118404219840143,-0.40908200962607005,-0.3909901953546289,-0.37632012612316856,-0.3713327254381608,-0.3537953633889891,-0.3304019624116972,-0.33865538056291306,-0.3432349845824583,-0.3315839404794172,-0.3271772181093821,-0.3205198130847118,-0.28778654543095633,-0.2559179341205131,-0.2306349319858639,-0.2141067587588759,-0.20169859848683416,-0.19814217924971747,-0.21075408242317287,-0.22888273728025796,-0.2489775717407626,-0.2593932439424991,-0.2717050005889908,-0.2639297825053112,-0.2574875424181783,-0.2586606134353661,-0.25950453801865064,-0.23315994103653795,-0.22945398315669038,-0.2281939673481796,-0.21771370483085198,-0.2056704125584488,-0.2059408747794946,-0.1657410644931736,-0.09511129990823598,-0.006676442926046101,0.08463046308000066,0.17259378881973483,0.2443509274437604,0.2957397406309268,0.30933619130264833,0.29924213584068726,0.26626511996443997,0.21419206496288848,0.14722363061075827,0.09349923926747918,0.03468959929779585,-0.01964099149239534,-0.07530938284239268,-0.12200658038173987,-0.1643259363197321,-0.1629261736708826,-0.1479130950246602,-0.13633328327865782,-0.11900548725573716,-0.09287655974952694,-0.1003623258373181,-0.09892861016576111,-0.07702463516029275,-0.0616972074048702,-0.06098677577367383,-0.050659854315026204,-0.06330927188760185,-0.09449883251891945,-0.12661559567349523,-0.1581620663527908,-0.19534537022803353,-0.2197498581775357,-0.2244254456433495,-0.22013468227340316,-0.20094512904402204,-0.18230322460859436,-0.14895777802971125,-0.11816231202900383,-0.12892940624262986,-0.14880665430933734,-0.13501146860090707,-0.13798997113101355,-0.15300695103877965,-0.11420916084890309,-0.07251750110739072,-0.054448891392887576,-0.02958579463511872,0.009225514901160093,0.02665227726980184,0.031391561706348776,0.017038979941338322,-0.007551751916463788,-0.028996568123013457,-0.047586781849159945,-0.06235323982686118,-0.059490322798407276,-0.053862428687456165,-0.054272904770714246,-0.05295008183264304,-0.057015970598976624,-0.06551083327626911,-0.06502338099452462,-0.05521069567705118,-0.03575746557487976,0.007745061725287548,0.06192203510442558,0.11123581220496033,0.15901719686342305,0.19853865813750915,0.213723245893866,0.2094035278922008,0.19899983142581704,0.1823348947088179,0.15912231304864358,0.13527651001058377,0.10056006073083637,0.08617034811624395,0.06506864557419777,0.04494015927477853,0.034495461736942276,0.04208525824224248,0.06670303689737128,0.12627480947577954,0.2579895953128153,0.4831966316125748,0.781797552882179,1.0780881225219547,1.357838629577971,1.6014545834139593,1.7761736720651429,1.8717765586866641,1.9010867662870585,1.8925596719071542,1.8239364929013575,1.707449073819057,1.5488610953349091,1.3692172669570066,1.1658890588901512,0.9541776947119636,0.7360192707561156,0.5259002359422237,0.3639661509477867,0.21644387764044246,0.10253598522390316,0.015579461375879344,-0.05908622047987161,-0.1474255760914722,-0.18913982978523633,-0.19923624946235735,-0.14424316457126976,-0.028584540993810942,0.11488016778532716,0.30735553496524315,0.5285800707118347,0.7650393701245574,1.013906464544713,1.33137770645459,1.6414638217403168,1.939230836916215,2.1998681493451975],\"type\":\"scatter\"},{\"marker\":{\"color\":\"red\",\"size\":8,\"symbol\":\"cross\"},\"mode\":\"markers\",\"name\":\"Detected Peaks\",\"x\":[29,66,99,143,204,291],\"y\":[1.4884601510926574,0.8814717546382458,0.5976552152773953,0.07349944278835656,0.30933619130264833,1.9010867662870585],\"type\":\"scatter\"},{\"name\":\"Apnea Event\",\"x\":[92,92,280,280,92],\"y\":[-0.75,1,1,-0.75,-0.75],\"type\":\"scatter\"}],                        {\"template\":{\"data\":{\"histogram2dcontour\":[{\"type\":\"histogram2dcontour\",\"colorbar\":{\"outlinewidth\":0,\"ticks\":\"\"},\"colorscale\":[[0.0,\"#0d0887\"],[0.1111111111111111,\"#46039f\"],[0.2222222222222222,\"#7201a8\"],[0.3333333333333333,\"#9c179e\"],[0.4444444444444444,\"#bd3786\"],[0.5555555555555556,\"#d8576b\"],[0.6666666666666666,\"#ed7953\"],[0.7777777777777778,\"#fb9f3a\"],[0.8888888888888888,\"#fdca26\"],[1.0,\"#f0f921\"]]}],\"choropleth\":[{\"type\":\"choropleth\",\"colorbar\":{\"outlinewidth\":0,\"ticks\":\"\"}}],\"histogram2d\":[{\"type\":\"histogram2d\",\"colorbar\":{\"outlinewidth\":0,\"ticks\":\"\"},\"colorscale\":[[0.0,\"#0d0887\"],[0.1111111111111111,\"#46039f\"],[0.2222222222222222,\"#7201a8\"],[0.3333333333333333,\"#9c179e\"],[0.4444444444444444,\"#bd3786\"],[0.5555555555555556,\"#d8576b\"],[0.6666666666666666,\"#ed7953\"],[0.7777777777777778,\"#fb9f3a\"],[0.8888888888888888,\"#fdca26\"],[1.0,\"#f0f921\"]]}],\"heatmap\":[{\"type\":\"heatmap\",\"colorbar\":{\"outlinewidth\":0,\"ticks\":\"\"},\"colorscale\":[[0.0,\"#0d0887\"],[0.1111111111111111,\"#46039f\"],[0.2222222222222222,\"#7201a8\"],[0.3333333333333333,\"#9c179e\"],[0.4444444444444444,\"#bd3786\"],[0.5555555555555556,\"#d8576b\"],[0.6666666666666666,\"#ed7953\"],[0.7777777777777778,\"#fb9f3a\"],[0.8888888888888888,\"#fdca26\"],[1.0,\"#f0f921\"]]}],\"heatmapgl\":[{\"type\":\"heatmapgl\",\"colorbar\":{\"outlinewidth\":0,\"ticks\":\"\"},\"colorscale\":[[0.0,\"#0d0887\"],[0.1111111111111111,\"#46039f\"],[0.2222222222222222,\"#7201a8\"],[0.3333333333333333,\"#9c179e\"],[0.4444444444444444,\"#bd3786\"],[0.5555555555555556,\"#d8576b\"],[0.6666666666666666,\"#ed7953\"],[0.7777777777777778,\"#fb9f3a\"],[0.8888888888888888,\"#fdca26\"],[1.0,\"#f0f921\"]]}],\"contourcarpet\":[{\"type\":\"contourcarpet\",\"colorbar\":{\"outlinewidth\":0,\"ticks\":\"\"}}],\"contour\":[{\"type\":\"contour\",\"colorbar\":{\"outlinewidth\":0,\"ticks\":\"\"},\"colorscale\":[[0.0,\"#0d0887\"],[0.1111111111111111,\"#46039f\"],[0.2222222222222222,\"#7201a8\"],[0.3333333333333333,\"#9c179e\"],[0.4444444444444444,\"#bd3786\"],[0.5555555555555556,\"#d8576b\"],[0.6666666666666666,\"#ed7953\"],[0.7777777777777778,\"#fb9f3a\"],[0.8888888888888888,\"#fdca26\"],[1.0,\"#f0f921\"]]}],\"surface\":[{\"type\":\"surface\",\"colorbar\":{\"outlinewidth\":0,\"ticks\":\"\"},\"colorscale\":[[0.0,\"#0d0887\"],[0.1111111111111111,\"#46039f\"],[0.2222222222222222,\"#7201a8\"],[0.3333333333333333,\"#9c179e\"],[0.4444444444444444,\"#bd3786\"],[0.5555555555555556,\"#d8576b\"],[0.6666666666666666,\"#ed7953\"],[0.7777777777777778,\"#fb9f3a\"],[0.8888888888888888,\"#fdca26\"],[1.0,\"#f0f921\"]]}],\"mesh3d\":[{\"type\":\"mesh3d\",\"colorbar\":{\"outlinewidth\":0,\"ticks\":\"\"}}],\"scatter\":[{\"fillpattern\":{\"fillmode\":\"overlay\",\"size\":10,\"solidity\":0.2},\"type\":\"scatter\"}],\"parcoords\":[{\"type\":\"parcoords\",\"line\":{\"colorbar\":{\"outlinewidth\":0,\"ticks\":\"\"}}}],\"scatterpolargl\":[{\"type\":\"scatterpolargl\",\"marker\":{\"colorbar\":{\"outlinewidth\":0,\"ticks\":\"\"}}}],\"bar\":[{\"error_x\":{\"color\":\"#2a3f5f\"},\"error_y\":{\"color\":\"#2a3f5f\"},\"marker\":{\"line\":{\"color\":\"#E5ECF6\",\"width\":0.5},\"pattern\":{\"fillmode\":\"overlay\",\"size\":10,\"solidity\":0.2}},\"type\":\"bar\"}],\"scattergeo\":[{\"type\":\"scattergeo\",\"marker\":{\"colorbar\":{\"outlinewidth\":0,\"ticks\":\"\"}}}],\"scatterpolar\":[{\"type\":\"scatterpolar\",\"marker\":{\"colorbar\":{\"outlinewidth\":0,\"ticks\":\"\"}}}],\"histogram\":[{\"marker\":{\"pattern\":{\"fillmode\":\"overlay\",\"size\":10,\"solidity\":0.2}},\"type\":\"histogram\"}],\"scattergl\":[{\"type\":\"scattergl\",\"marker\":{\"colorbar\":{\"outlinewidth\":0,\"ticks\":\"\"}}}],\"scatter3d\":[{\"type\":\"scatter3d\",\"line\":{\"colorbar\":{\"outlinewidth\":0,\"ticks\":\"\"}},\"marker\":{\"colorbar\":{\"outlinewidth\":0,\"ticks\":\"\"}}}],\"scattermapbox\":[{\"type\":\"scattermapbox\",\"marker\":{\"colorbar\":{\"outlinewidth\":0,\"ticks\":\"\"}}}],\"scatterternary\":[{\"type\":\"scatterternary\",\"marker\":{\"colorbar\":{\"outlinewidth\":0,\"ticks\":\"\"}}}],\"scattercarpet\":[{\"type\":\"scattercarpet\",\"marker\":{\"colorbar\":{\"outlinewidth\":0,\"ticks\":\"\"}}}],\"carpet\":[{\"aaxis\":{\"endlinecolor\":\"#2a3f5f\",\"gridcolor\":\"white\",\"linecolor\":\"white\",\"minorgridcolor\":\"white\",\"startlinecolor\":\"#2a3f5f\"},\"baxis\":{\"endlinecolor\":\"#2a3f5f\",\"gridcolor\":\"white\",\"linecolor\":\"white\",\"minorgridcolor\":\"white\",\"startlinecolor\":\"#2a3f5f\"},\"type\":\"carpet\"}],\"table\":[{\"cells\":{\"fill\":{\"color\":\"#EBF0F8\"},\"line\":{\"color\":\"white\"}},\"header\":{\"fill\":{\"color\":\"#C8D4E3\"},\"line\":{\"color\":\"white\"}},\"type\":\"table\"}],\"barpolar\":[{\"marker\":{\"line\":{\"color\":\"#E5ECF6\",\"width\":0.5},\"pattern\":{\"fillmode\":\"overlay\",\"size\":10,\"solidity\":0.2}},\"type\":\"barpolar\"}],\"pie\":[{\"automargin\":true,\"type\":\"pie\"}]},\"layout\":{\"autotypenumbers\":\"strict\",\"colorway\":[\"#636efa\",\"#EF553B\",\"#00cc96\",\"#ab63fa\",\"#FFA15A\",\"#19d3f3\",\"#FF6692\",\"#B6E880\",\"#FF97FF\",\"#FECB52\"],\"font\":{\"color\":\"#2a3f5f\"},\"hovermode\":\"closest\",\"hoverlabel\":{\"align\":\"left\"},\"paper_bgcolor\":\"white\",\"plot_bgcolor\":\"#E5ECF6\",\"polar\":{\"bgcolor\":\"#E5ECF6\",\"angularaxis\":{\"gridcolor\":\"white\",\"linecolor\":\"white\",\"ticks\":\"\"},\"radialaxis\":{\"gridcolor\":\"white\",\"linecolor\":\"white\",\"ticks\":\"\"}},\"ternary\":{\"bgcolor\":\"#E5ECF6\",\"aaxis\":{\"gridcolor\":\"white\",\"linecolor\":\"white\",\"ticks\":\"\"},\"baxis\":{\"gridcolor\":\"white\",\"linecolor\":\"white\",\"ticks\":\"\"},\"caxis\":{\"gridcolor\":\"white\",\"linecolor\":\"white\",\"ticks\":\"\"}},\"coloraxis\":{\"colorbar\":{\"outlinewidth\":0,\"ticks\":\"\"}},\"colorscale\":{\"sequential\":[[0.0,\"#0d0887\"],[0.1111111111111111,\"#46039f\"],[0.2222222222222222,\"#7201a8\"],[0.3333333333333333,\"#9c179e\"],[0.4444444444444444,\"#bd3786\"],[0.5555555555555556,\"#d8576b\"],[0.6666666666666666,\"#ed7953\"],[0.7777777777777778,\"#fb9f3a\"],[0.8888888888888888,\"#fdca26\"],[1.0,\"#f0f921\"]],\"sequentialminus\":[[0.0,\"#0d0887\"],[0.1111111111111111,\"#46039f\"],[0.2222222222222222,\"#7201a8\"],[0.3333333333333333,\"#9c179e\"],[0.4444444444444444,\"#bd3786\"],[0.5555555555555556,\"#d8576b\"],[0.6666666666666666,\"#ed7953\"],[0.7777777777777778,\"#fb9f3a\"],[0.8888888888888888,\"#fdca26\"],[1.0,\"#f0f921\"]],\"diverging\":[[0,\"#8e0152\"],[0.1,\"#c51b7d\"],[0.2,\"#de77ae\"],[0.3,\"#f1b6da\"],[0.4,\"#fde0ef\"],[0.5,\"#f7f7f7\"],[0.6,\"#e6f5d0\"],[0.7,\"#b8e186\"],[0.8,\"#7fbc41\"],[0.9,\"#4d9221\"],[1,\"#276419\"]]},\"xaxis\":{\"gridcolor\":\"white\",\"linecolor\":\"white\",\"ticks\":\"\",\"title\":{\"standoff\":15},\"zerolinecolor\":\"white\",\"automargin\":true,\"zerolinewidth\":2},\"yaxis\":{\"gridcolor\":\"white\",\"linecolor\":\"white\",\"ticks\":\"\",\"title\":{\"standoff\":15},\"zerolinecolor\":\"white\",\"automargin\":true,\"zerolinewidth\":2},\"scene\":{\"xaxis\":{\"backgroundcolor\":\"#E5ECF6\",\"gridcolor\":\"white\",\"linecolor\":\"white\",\"showbackground\":true,\"ticks\":\"\",\"zerolinecolor\":\"white\",\"gridwidth\":2},\"yaxis\":{\"backgroundcolor\":\"#E5ECF6\",\"gridcolor\":\"white\",\"linecolor\":\"white\",\"showbackground\":true,\"ticks\":\"\",\"zerolinecolor\":\"white\",\"gridwidth\":2},\"zaxis\":{\"backgroundcolor\":\"#E5ECF6\",\"gridcolor\":\"white\",\"linecolor\":\"white\",\"showbackground\":true,\"ticks\":\"\",\"zerolinecolor\":\"white\",\"gridwidth\":2}},\"shapedefaults\":{\"line\":{\"color\":\"#2a3f5f\"}},\"annotationdefaults\":{\"arrowcolor\":\"#2a3f5f\",\"arrowhead\":0,\"arrowwidth\":1},\"geo\":{\"bgcolor\":\"white\",\"landcolor\":\"#E5ECF6\",\"subunitcolor\":\"white\",\"showland\":true,\"showlakes\":true,\"lakecolor\":\"white\"},\"title\":{\"x\":0.05},\"mapbox\":{\"style\":\"light\"}}}},                        {\"responsive\": true}                    ).then(function(){\n",
       "                            \n",
       "var gd = document.getElementById('3caa135d-241e-4dbe-b0a6-edf25dbd9dcf');\n",
       "var x = new MutationObserver(function (mutations, observer) {{\n",
       "        var display = window.getComputedStyle(gd).display;\n",
       "        if (!display || display === 'none') {{\n",
       "            console.log([gd, 'removed!']);\n",
       "            Plotly.purge(gd);\n",
       "            observer.disconnect();\n",
       "        }}\n",
       "}});\n",
       "\n",
       "// Listen for the removal of the full notebook cells\n",
       "var notebookContainer = gd.closest('#notebook-container');\n",
       "if (notebookContainer) {{\n",
       "    x.observe(notebookContainer, {childList: true});\n",
       "}}\n",
       "\n",
       "// Listen for the clearing of the current output cell\n",
       "var outputEl = gd.closest('.output');\n",
       "if (outputEl) {{\n",
       "    x.observe(outputEl, {childList: true});\n",
       "}}\n",
       "\n",
       "                        })                };                });            </script>        </div>"
      ]
     },
     "metadata": {},
     "output_type": "display_data"
    }
   ],
   "source": [
    "# visualization tool! \n",
    "patient = data[data['patient'] == '1']\n",
    "feature = 'PSG_Abdomen'\n",
    "ecg = list(patient[feature])\n",
    "big_arr = np.array(ecg).flatten()\n",
    "ev_arr = np.array(patient['event'])\n",
    "\n",
    "y = big_arr[56900: 57220]\n",
    "indices = find_peaks(y, prominence = 0.2)[0]\n",
    "import plotly.graph_objects as go\n",
    "fig = go.Figure()\n",
    "fig.add_trace(go.Scatter(\n",
    "    y=y,\n",
    "    mode='lines+markers',\n",
    "    name=feature\n",
    "))\n",
    "\n",
    "fig.add_trace(go.Scatter(\n",
    "    x=indices,\n",
    "    y=[y[j] for j in indices],\n",
    "    mode='markers',\n",
    "    marker=dict(\n",
    "        size=8,\n",
    "        color='red',\n",
    "        symbol='cross'\n",
    "    ),\n",
    "    name='Detected Peaks'\n",
    "))\n",
    "fig.add_trace(go.Scatter(x=[92,92,280,280,92], y=[-0.75,1,1,-0.75,-0.75],name='Apnea Event'))\n",
    "\n",
    "fig.show()"
   ]
  }
 ],
 "metadata": {
  "kernelspec": {
   "display_name": "Python 3 (ipykernel)",
   "language": "python",
   "name": "python3"
  },
  "language_info": {
   "codemirror_mode": {
    "name": "ipython",
    "version": 3
   },
   "file_extension": ".py",
   "mimetype": "text/x-python",
   "name": "python",
   "nbconvert_exporter": "python",
   "pygments_lexer": "ipython3",
   "version": "3.10.0"
  }
 },
 "nbformat": 4,
 "nbformat_minor": 5
}
