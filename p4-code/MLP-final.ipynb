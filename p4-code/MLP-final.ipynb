{
 "cells": [
  {
   "cell_type": "code",
   "execution_count": 75,
   "metadata": {},
   "outputs": [],
   "source": [
    "import pandas as pd\n",
    "import numpy as np\n",
    "import pickle\n",
    "from matplotlib import pyplot as plt\n",
    "from sklearn import svm\n",
    "from sklearn.preprocessing import StandardScaler\n",
    "from sklearn.metrics import classification_report\n",
    "from sklearn.model_selection import train_test_split\n",
    "from imblearn.over_sampling import SMOTE\n",
    "from imblearn.under_sampling import NearMiss\n",
    "from sklearn.neural_network import MLPClassifier\n",
    "from sklearn.metrics import roc_curve, roc_auc_score\n",
    "import re\n",
    "from collections import Counter\n",
    "pd.options.display.max_seq_items = 2000"
   ]
  },
  {
   "cell_type": "code",
   "execution_count": 2,
   "metadata": {},
   "outputs": [
    {
     "name": "stdout",
     "output_type": "stream",
     "text": [
      "Index(['y', 'patient', 'PSG_Flow_std', 'PSG_Flow_rms', 'PSG_Flow_med',\n",
      "       'PSG_Thorax_std', 'PSG_Thorax_rms', 'PSG_Thorax_med', 'PSG_Abdomen_std',\n",
      "       'PSG_Abdomen_rms', 'PSG_Abdomen_med', 'signal_ecg_i_std',\n",
      "       'signal_ecg_i_rms', 'signal_ecg_i_med', 'signal_ecg_ii_std',\n",
      "       'signal_ecg_ii_rms', 'signal_ecg_ii_med'],\n",
      "      dtype='object')\n"
     ]
    }
   ],
   "source": [
    "## using the dataset that has been preprocessed and only contains PSG and ECG data \n",
    "f = open('./psg_ecg_all_features.pkl', 'rb')\n",
    "data = pickle.load(f)\n",
    "f.close()\n",
    "print(data.columns)\n"
   ]
  },
  {
   "cell_type": "code",
   "execution_count": 69,
   "metadata": {},
   "outputs": [
    {
     "name": "stdout",
     "output_type": "stream",
     "text": [
      "72475\n"
     ]
    }
   ],
   "source": [
    "print(data.shape[0])"
   ]
  },
  {
   "cell_type": "code",
   "execution_count": 104,
   "metadata": {},
   "outputs": [],
   "source": [
    "## the main driver function that runs the MLP algorithm\n",
    "def MLP(X,y):\n",
    "       \n",
    "       print(\"Starting algorithm\")\n",
    "       X_train, X_test, y_train, y_test = train_test_split(X, y, test_size=0.2, random_state=42)\n",
    "\n",
    "\n",
    "       ## standardizing the data \n",
    "              \n",
    "       X_train = StandardScaler().fit_transform(X_train)    \n",
    "\n",
    "\n",
    "       ## undersampling technique used initially but discarded later as it did not show better results than oversampling\n",
    "       # undersample = NearMiss(version=1, n_neighbors=3)\n",
    "       # X_train, y_train = undersample.fit_resample(X_train, y_train)\n",
    "       \n",
    "\n",
    "       ## oversampling technique \n",
    "       oversample = SMOTE()\n",
    "       X_train, y_train = oversample.fit_resample(X_train, y_train)\n",
    "\n",
    "\n",
    "       counts = Counter(y_train)\n",
    "       X_test = StandardScaler().fit_transform(X_test)\n",
    "\n",
    "       \n",
    "       clf = MLPClassifier(hidden_layer_sizes=(6,5),\n",
    "                    random_state=5,\n",
    "                    learning_rate_init=0.01)\n",
    "       \n",
    "       clf.fit(X_train,y_train)\n",
    "\n",
    "       y_pred = clf.predict(X_test)\n",
    "\n",
    "       return X_train, X_test, y_train, y_test, y_pred"
   ]
  },
  {
   "cell_type": "code",
   "execution_count": 103,
   "metadata": {},
   "outputs": [
    {
     "name": "stdout",
     "output_type": "stream",
     "text": [
      "Starting algorithm\n",
      "training data length before 57980\n",
      "number of 1s before: 16925\n",
      "training data length before 33850\n",
      "counts of 1 after 16925\n"
     ]
    },
    {
     "name": "stderr",
     "output_type": "stream",
     "text": [
      "c:\\Users\\vafab\\AppData\\Local\\Programs\\Python\\Python310\\lib\\site-packages\\sklearn\\neural_network\\_multilayer_perceptron.py:1118: DataConversionWarning: A column-vector y was passed when a 1d array was expected. Please change the shape of y to (n_samples, ), for example using ravel().\n",
      "  y = column_or_1d(y, warn=True)\n"
     ]
    }
   ],
   "source": [
    "\n",
    "X = data[['PSG_Flow_std', 'PSG_Flow_rms', 'PSG_Flow_med',\n",
    "       'PSG_Thorax_std', 'PSG_Thorax_rms', 'PSG_Thorax_med', 'PSG_Abdomen_std',\n",
    "       'PSG_Abdomen_rms', 'PSG_Abdomen_med', 'signal_ecg_i_std',\n",
    "       'signal_ecg_i_rms', 'signal_ecg_i_med', 'signal_ecg_ii_std',\n",
    "       'signal_ecg_ii_rms', 'signal_ecg_ii_med']]\n",
    "\n",
    "y = data[['y']]\n",
    "\n",
    "X_train, X_test, y_train, y_test, y_pred = MLP(X,y)\n",
    "\n",
    "report = classification_report(y_test, y_pred, target_names=['None', 'APNEA'], digits=3)\n",
    "print(report)"
   ]
  },
  {
   "cell_type": "code",
   "execution_count": 106,
   "metadata": {},
   "outputs": [
    {
     "name": "stdout",
     "output_type": "stream",
     "text": [
      "Starting algorithm\n"
     ]
    },
    {
     "name": "stderr",
     "output_type": "stream",
     "text": [
      "c:\\Users\\vafab\\AppData\\Local\\Programs\\Python\\Python310\\lib\\site-packages\\sklearn\\neural_network\\_multilayer_perceptron.py:1118: DataConversionWarning: A column-vector y was passed when a 1d array was expected. Please change the shape of y to (n_samples, ), for example using ravel().\n",
      "  y = column_or_1d(y, warn=True)\n"
     ]
    },
    {
     "name": "stdout",
     "output_type": "stream",
     "text": [
      "              precision    recall  f1-score   support\n",
      "\n",
      "        None      0.827     0.811     0.819     10314\n",
      "       APNEA      0.554     0.581     0.567      4181\n",
      "\n",
      "    accuracy                          0.744     14495\n",
      "   macro avg      0.691     0.696     0.693     14495\n",
      "weighted avg      0.748     0.744     0.746     14495\n",
      "\n",
      "Starting algorithm\n"
     ]
    },
    {
     "name": "stderr",
     "output_type": "stream",
     "text": [
      "c:\\Users\\vafab\\AppData\\Local\\Programs\\Python\\Python310\\lib\\site-packages\\sklearn\\neural_network\\_multilayer_perceptron.py:1118: DataConversionWarning: A column-vector y was passed when a 1d array was expected. Please change the shape of y to (n_samples, ), for example using ravel().\n",
      "  y = column_or_1d(y, warn=True)\n"
     ]
    },
    {
     "name": "stdout",
     "output_type": "stream",
     "text": [
      "              precision    recall  f1-score   support\n",
      "\n",
      "        None      0.813     0.828     0.820     10314\n",
      "       APNEA      0.555     0.530     0.543      4181\n",
      "\n",
      "    accuracy                          0.742     14495\n",
      "   macro avg      0.684     0.679     0.682     14495\n",
      "weighted avg      0.739     0.742     0.740     14495\n",
      "\n",
      "Starting algorithm\n"
     ]
    },
    {
     "name": "stderr",
     "output_type": "stream",
     "text": [
      "c:\\Users\\vafab\\AppData\\Local\\Programs\\Python\\Python310\\lib\\site-packages\\sklearn\\neural_network\\_multilayer_perceptron.py:1118: DataConversionWarning: A column-vector y was passed when a 1d array was expected. Please change the shape of y to (n_samples, ), for example using ravel().\n",
      "  y = column_or_1d(y, warn=True)\n"
     ]
    },
    {
     "name": "stdout",
     "output_type": "stream",
     "text": [
      "              precision    recall  f1-score   support\n",
      "\n",
      "        None      0.759     0.654     0.703     10314\n",
      "       APNEA      0.364     0.488     0.417      4181\n",
      "\n",
      "    accuracy                          0.606     14495\n",
      "   macro avg      0.562     0.571     0.560     14495\n",
      "weighted avg      0.645     0.606     0.620     14495\n",
      "\n",
      "Starting algorithm\n"
     ]
    },
    {
     "name": "stderr",
     "output_type": "stream",
     "text": [
      "c:\\Users\\vafab\\AppData\\Local\\Programs\\Python\\Python310\\lib\\site-packages\\sklearn\\neural_network\\_multilayer_perceptron.py:1118: DataConversionWarning: A column-vector y was passed when a 1d array was expected. Please change the shape of y to (n_samples, ), for example using ravel().\n",
      "  y = column_or_1d(y, warn=True)\n"
     ]
    },
    {
     "name": "stdout",
     "output_type": "stream",
     "text": [
      "              precision    recall  f1-score   support\n",
      "\n",
      "        None      0.809     0.813     0.811     10314\n",
      "       APNEA      0.534     0.527     0.530      4181\n",
      "\n",
      "    accuracy                          0.731     14495\n",
      "   macro avg      0.671     0.670     0.671     14495\n",
      "weighted avg      0.730     0.731     0.730     14495\n",
      "\n",
      "Starting algorithm\n"
     ]
    },
    {
     "name": "stderr",
     "output_type": "stream",
     "text": [
      "c:\\Users\\vafab\\AppData\\Local\\Programs\\Python\\Python310\\lib\\site-packages\\sklearn\\neural_network\\_multilayer_perceptron.py:1118: DataConversionWarning: A column-vector y was passed when a 1d array was expected. Please change the shape of y to (n_samples, ), for example using ravel().\n",
      "  y = column_or_1d(y, warn=True)\n"
     ]
    },
    {
     "name": "stdout",
     "output_type": "stream",
     "text": [
      "              precision    recall  f1-score   support\n",
      "\n",
      "        None      0.798     0.842     0.819     10314\n",
      "       APNEA      0.548     0.474     0.508      4181\n",
      "\n",
      "    accuracy                          0.735     14495\n",
      "   macro avg      0.673     0.658     0.664     14495\n",
      "weighted avg      0.726     0.735     0.729     14495\n",
      "\n",
      "Starting algorithm\n"
     ]
    },
    {
     "name": "stderr",
     "output_type": "stream",
     "text": [
      "c:\\Users\\vafab\\AppData\\Local\\Programs\\Python\\Python310\\lib\\site-packages\\sklearn\\neural_network\\_multilayer_perceptron.py:1118: DataConversionWarning: A column-vector y was passed when a 1d array was expected. Please change the shape of y to (n_samples, ), for example using ravel().\n",
      "  y = column_or_1d(y, warn=True)\n"
     ]
    },
    {
     "name": "stdout",
     "output_type": "stream",
     "text": [
      "              precision    recall  f1-score   support\n",
      "\n",
      "        None      0.806     0.796     0.801     10314\n",
      "       APNEA      0.512     0.527     0.519      4181\n",
      "\n",
      "    accuracy                          0.719     14495\n",
      "   macro avg      0.659     0.662     0.660     14495\n",
      "weighted avg      0.721     0.719     0.720     14495\n",
      "\n"
     ]
    },
    {
     "data": {
      "text/plain": [
       "<matplotlib.legend.Legend at 0x27e07bf7340>"
      ]
     },
     "execution_count": 106,
     "metadata": {},
     "output_type": "execute_result"
    },
    {
     "data": {
      "image/png": "[encoded data removed]",
      "text/plain": [
       "<Figure size 432x288 with 1 Axes>"
      ]
     },
     "metadata": {
      "needs_background": "light"
     },
     "output_type": "display_data"
    }
   ],
   "source": [
    "\n",
    "\n",
    "## PSG + ECG features used for training\n",
    "X = data[['PSG_Flow_std', 'PSG_Flow_rms', 'PSG_Flow_med',\n",
    "       'PSG_Thorax_std', 'PSG_Thorax_rms', 'PSG_Thorax_med', 'PSG_Abdomen_std',\n",
    "       'PSG_Abdomen_rms', 'PSG_Abdomen_med', 'signal_ecg_i_std',\n",
    "       'signal_ecg_i_rms', 'signal_ecg_i_med', 'signal_ecg_ii_std',\n",
    "       'signal_ecg_ii_rms', 'signal_ecg_ii_med']]\n",
    "\n",
    "y = data[['y']]\n",
    "\n",
    "X_train, X_test, y_train, y_test, y_pred = MLP(X,y)\n",
    "\n",
    "report = classification_report(y_test, y_pred, target_names=['None', 'APNEA'], digits=3)\n",
    "print(report)\n",
    "\n",
    "fpr, tpr, thresholds = roc_curve(y_test, y_pred)\n",
    "score = round(roc_auc_score(y_test, y_pred),2)\n",
    "plt.plot(fpr, tpr, '-', label = \"feature = all features, AUC =\"+ str(score))\n",
    "plt.xlabel(\"False Positive Rate\")\n",
    "plt.ylabel(\"True Positive Rate\")\n",
    "plt.title(\"ROC Curve for Multilayer Perceptron\")\n",
    "plt.legend(bbox_to_anchor=(1,0), loc=\"lower left\")\n",
    "\n",
    "\n",
    "## Only PSG data used \n",
    "X = data[['PSG_Flow_std', 'PSG_Flow_rms', 'PSG_Flow_med',\n",
    "       'PSG_Thorax_std', 'PSG_Thorax_rms', 'PSG_Thorax_med', 'PSG_Abdomen_std',\n",
    "       'PSG_Abdomen_rms', 'PSG_Abdomen_med']]\n",
    "\n",
    "y = data[['y']]\n",
    "\n",
    "X_train, X_test, y_train, y_test, y_pred = MLP(X,y)\n",
    "\n",
    "report = classification_report(y_test, y_pred, target_names=['None', 'APNEA'], digits=3)\n",
    "print(report)\n",
    "\n",
    "\n",
    "fpr, tpr, thresholds = roc_curve(y_test, y_pred)\n",
    "score = round(roc_auc_score(y_test, y_pred),2)\n",
    "plt.plot(fpr, tpr, '-', label = \"feature = only PSG, AUC =\"+ str(score))\n",
    "plt.xlabel(\"False Positive Rate\")\n",
    "plt.ylabel(\"True Positive Rate\")\n",
    "plt.title(\"ROC Curve for Multilayer Perceptron\")\n",
    "plt.legend(bbox_to_anchor=(1,0), loc=\"lower left\")\n",
    "\n",
    "\n",
    "## Only ECG data used \n",
    "X = data[['signal_ecg_i_std','signal_ecg_i_rms', 'signal_ecg_i_med', 'signal_ecg_ii_std',\n",
    "       'signal_ecg_ii_rms', 'signal_ecg_ii_med']]\n",
    "\n",
    "y = data[['y']]\n",
    "\n",
    "X_train, X_test, y_train, y_test, y_pred = MLP(X,y)\n",
    "\n",
    "report = classification_report(y_test, y_pred, target_names=['None', 'APNEA'], digits=3)\n",
    "print(report)\n",
    "\n",
    "fpr, tpr, thresholds = roc_curve(y_test, y_pred)\n",
    "score = round(roc_auc_score(y_test, y_pred),2)\n",
    "plt.plot(fpr, tpr, '-', label = \"feature = only ECG, AUC =\"+ str(score))\n",
    "plt.xlabel(\"False Positive Rate\")\n",
    "plt.ylabel(\"True Positive Rate\")\n",
    "plt.title(\"ROC Curve for Multilayer Perceptron\")\n",
    "plt.legend(bbox_to_anchor=(1,0), loc=\"lower left\")\n",
    "\n",
    "\n",
    "## Using PCG std data \n",
    "X = data[['PSG_Flow_std', 'PSG_Thorax_std', 'PSG_Abdomen_std']]\n",
    "\n",
    "y = data[['y']]\n",
    "\n",
    "X_train, X_test, y_train, y_test, y_pred = MLP(X,y)\n",
    "report = classification_report(y_test, y_pred, target_names=['None', 'APNEA'], digits=3)\n",
    "print(report)\n",
    "\n",
    "fpr, tpr, thresholds = roc_curve(y_test, y_pred)\n",
    "score = round(roc_auc_score(y_test, y_pred),2)\n",
    "plt.plot(fpr, tpr, '-', label = \"feature = PSG standard deviation, AUC =\"+ str(score))\n",
    "plt.xlabel(\"False Positive Rate\")\n",
    "plt.ylabel(\"True Positive Rate\")\n",
    "plt.title(\"ROC Curve for Multilayer Perceptron\")\n",
    "plt.legend(bbox_to_anchor=(1,0), loc=\"lower left\")\n",
    "\n",
    "##Using PCG rms data \n",
    "X = data[['PSG_Flow_rms', 'PSG_Thorax_rms', 'PSG_Abdomen_rms']]\n",
    "\n",
    "y = data[['y']]\n",
    "\n",
    "X_train, X_test, y_train, y_test, y_pred = MLP(X,y)\n",
    "report = classification_report(y_test, y_pred, target_names=['None', 'APNEA'], digits=3)\n",
    "print(report)\n",
    "fpr, tpr, thresholds = roc_curve(y_test, y_pred)\n",
    "score = round(roc_auc_score(y_test, y_pred),2)\n",
    "plt.plot(fpr, tpr, '-', label = \"feature = PSG RMS, AUC =\"+ str(score))\n",
    "plt.xlabel(\"False Positive Rate\")\n",
    "plt.ylabel(\"True Positive Rate\")\n",
    "plt.title(\"ROC Curve for Multilayer Perceptron\")\n",
    "plt.legend(bbox_to_anchor=(1,0), loc=\"lower left\")\n",
    "\n",
    "## Using PCG median values\n",
    "X = data[[ 'PSG_Flow_med', 'PSG_Thorax_med',  'PSG_Abdomen_med']]\n",
    "\n",
    "y = data[['y']]\n",
    "\n",
    "X_train, X_test, y_train, y_test, y_pred = MLP(X,y)\n",
    "report = classification_report(y_test, y_pred, target_names=['None', 'APNEA'], digits=3)\n",
    "print(report)\n",
    "fpr, tpr, thresholds = roc_curve(y_test, y_pred)\n",
    "score = round(roc_auc_score(y_test, y_pred),2)\n",
    "plt.plot(fpr, tpr, '-', label = \"feature = PSG median, AUC =\"+ str(score))\n",
    "plt.xlabel(\"False Positive Rate\")\n",
    "plt.ylabel(\"True Positive Rate\")\n",
    "plt.title(\"ROC Curve for Multilayer Perceptron\")\n",
    "plt.legend(bbox_to_anchor=(1,0), loc=\"lower left\")"
   ]
  },
  {
   "cell_type": "code",
   "execution_count": null,
   "metadata": {},
   "outputs": [],
   "source": []
  }
 ],
 "metadata": {
  "kernelspec": {
   "display_name": "Python 3.10.4 64-bit",
   "language": "python",
   "name": "python3"
  },
  "language_info": {
   "codemirror_mode": {
    "name": "ipython",
    "version": 3
   },
   "file_extension": ".py",
   "mimetype": "text/x-python",
   "name": "python",
   "nbconvert_exporter": "python",
   "pygments_lexer": "ipython3",
   "version": "3.10.4"
  },
  "orig_nbformat": 4,
  "vscode": {
   "interpreter": {
    "hash": "1ade3842e6845b08dc64a23e152eb76989fffca3106b45d5605096b5a3277c8b"
   }
  }
 },
 "nbformat": 4,
 "nbformat_minor": 2
}
