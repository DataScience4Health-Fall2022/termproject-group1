{
 "cells": [
  {
   "cell_type": "markdown",
   "id": "77a3fd1f",
   "metadata": {},
   "source": [
    "### Exploratory Data Analysis\n",
    "\n",
    "Objective: The goal of our study is to identify which vital-sign features e.g ECG or heart rate can be used to predict apnea events in stroke patients using a machine learning model"
   ]
  },
  {
   "cell_type": "code",
   "execution_count": 1,
   "id": "8ef21c1d",
   "metadata": {},
   "outputs": [],
   "source": [
    "\n",
    "import pandas as pd\n",
    "import numpy as np\n",
    "import pickle\n",
    "from matplotlib import pyplot as plt\n",
    "from datetime import datetime\n",
    "import time\n"
   ]
  },
  {
   "cell_type": "markdown",
   "id": "7368f30c",
   "metadata": {},
   "source": [
    "Given that the dataset contains recordings of vitals for 30 patients, to make the data easy to handle, we first created a list of dataframes where each dataframe contained per patient data"
   ]
  },
  {
   "cell_type": "code",
   "execution_count": 2,
   "id": "11911bbc",
   "metadata": {},
   "outputs": [],
   "source": [
    "## a list to store the data for each patient \n",
    "dfs_list = []"
   ]
  },
  {
   "cell_type": "markdown",
   "id": "5d59d479",
   "metadata": {},
   "source": [
    "We first start by loading the data..."
   ]
  },
  {
   "cell_type": "code",
   "execution_count": 3,
   "id": "aafbf22a",
   "metadata": {},
   "outputs": [],
   "source": [
    "f = open('./dataset_OSAS.pickle', 'rb')\n",
    "data = pickle.load(f)\n",
    "f.close()\n"
   ]
  },
  {
   "cell_type": "markdown",
   "id": "2fbcd894",
   "metadata": {},
   "source": [
    "Here we parse the entire data, remove duplicates and initialize the list of dataframes"
   ]
  },
  {
   "cell_type": "code",
   "execution_count": 4,
   "id": "2f8af444",
   "metadata": {},
   "outputs": [
    {
     "name": "stderr",
     "output_type": "stream",
     "text": [
      "C:\\Users\\vafab\\AppData\\Local\\Temp\\ipykernel_21824\\2526491877.py:4: SettingWithCopyWarning: \n",
      "A value is trying to be set on a copy of a slice from a DataFrame\n",
      "\n",
      "See the caveats in the documentation: https://pandas.pydata.org/pandas-docs/stable/user_guide/indexing.html#returning-a-view-versus-a-copy\n",
      "  df.drop_duplicates(subset=['timestamp_datetime'], inplace=True)\n"
     ]
    }
   ],
   "source": [
    "## dropping duplicates from the data \n",
    "for i in range(1,31,1):\n",
    "    df = data[data['patient'] == str(i)]\n",
    "    df.drop_duplicates(subset=['timestamp_datetime'], inplace=True)\n",
    "    dfs_list.append(df)"
   ]
  },
  {
   "cell_type": "markdown",
   "id": "335b4910",
   "metadata": {},
   "source": [
    "As a first step towards EDA, we first wanted to see different statistics associated with each feature for our better understanding of the nature of the data we are handling"
   ]
  },
  {
   "cell_type": "code",
   "execution_count": 15,
   "id": "a5027197",
   "metadata": {},
   "outputs": [
    {
     "data": {
      "text/html": [
       "<div>\n",
       "<style scoped>\n",
       "    .dataframe tbody tr th:only-of-type {\n",
       "        vertical-align: middle;\n",
       "    }\n",
       "\n",
       "    .dataframe tbody tr th {\n",
       "        vertical-align: top;\n",
       "    }\n",
       "\n",
       "    .dataframe thead th {\n",
       "        text-align: right;\n",
       "    }\n",
       "</style>\n",
       "<table border=\"1\" class=\"dataframe\">\n",
       "  <thead>\n",
       "    <tr style=\"text-align: right;\">\n",
       "      <th></th>\n",
       "      <th>HR(bpm)</th>\n",
       "      <th>SpO2(%)</th>\n",
       "      <th>PI(%)</th>\n",
       "      <th>RR(rpm)</th>\n",
       "      <th>PVCs(/min)</th>\n",
       "      <th>anomaly</th>\n",
       "    </tr>\n",
       "  </thead>\n",
       "  <tbody>\n",
       "    <tr>\n",
       "      <th>count</th>\n",
       "      <td>957813.000000</td>\n",
       "      <td>828777.000000</td>\n",
       "      <td>828102.000000</td>\n",
       "      <td>942901.000000</td>\n",
       "      <td>957813.000000</td>\n",
       "      <td>961357</td>\n",
       "    </tr>\n",
       "    <tr>\n",
       "      <th>unique</th>\n",
       "      <td>NaN</td>\n",
       "      <td>NaN</td>\n",
       "      <td>NaN</td>\n",
       "      <td>NaN</td>\n",
       "      <td>NaN</td>\n",
       "      <td>2</td>\n",
       "    </tr>\n",
       "    <tr>\n",
       "      <th>top</th>\n",
       "      <td>NaN</td>\n",
       "      <td>NaN</td>\n",
       "      <td>NaN</td>\n",
       "      <td>NaN</td>\n",
       "      <td>NaN</td>\n",
       "      <td>False</td>\n",
       "    </tr>\n",
       "    <tr>\n",
       "      <th>freq</th>\n",
       "      <td>NaN</td>\n",
       "      <td>NaN</td>\n",
       "      <td>NaN</td>\n",
       "      <td>NaN</td>\n",
       "      <td>NaN</td>\n",
       "      <td>815917</td>\n",
       "    </tr>\n",
       "    <tr>\n",
       "      <th>mean</th>\n",
       "      <td>64.683292</td>\n",
       "      <td>95.479754</td>\n",
       "      <td>3.981212</td>\n",
       "      <td>15.894219</td>\n",
       "      <td>0.629161</td>\n",
       "      <td>NaN</td>\n",
       "    </tr>\n",
       "    <tr>\n",
       "      <th>std</th>\n",
       "      <td>14.302865</td>\n",
       "      <td>2.875233</td>\n",
       "      <td>2.416226</td>\n",
       "      <td>3.689678</td>\n",
       "      <td>2.308404</td>\n",
       "      <td>NaN</td>\n",
       "    </tr>\n",
       "    <tr>\n",
       "      <th>min</th>\n",
       "      <td>30.000000</td>\n",
       "      <td>60.000000</td>\n",
       "      <td>0.060000</td>\n",
       "      <td>5.000000</td>\n",
       "      <td>0.000000</td>\n",
       "      <td>NaN</td>\n",
       "    </tr>\n",
       "    <tr>\n",
       "      <th>25%</th>\n",
       "      <td>54.000000</td>\n",
       "      <td>94.000000</td>\n",
       "      <td>2.200000</td>\n",
       "      <td>13.000000</td>\n",
       "      <td>0.000000</td>\n",
       "      <td>NaN</td>\n",
       "    </tr>\n",
       "    <tr>\n",
       "      <th>50%</th>\n",
       "      <td>62.000000</td>\n",
       "      <td>96.000000</td>\n",
       "      <td>3.510000</td>\n",
       "      <td>15.000000</td>\n",
       "      <td>0.000000</td>\n",
       "      <td>NaN</td>\n",
       "    </tr>\n",
       "    <tr>\n",
       "      <th>75%</th>\n",
       "      <td>74.000000</td>\n",
       "      <td>97.000000</td>\n",
       "      <td>5.270000</td>\n",
       "      <td>18.000000</td>\n",
       "      <td>0.000000</td>\n",
       "      <td>NaN</td>\n",
       "    </tr>\n",
       "    <tr>\n",
       "      <th>max</th>\n",
       "      <td>168.000000</td>\n",
       "      <td>100.000000</td>\n",
       "      <td>20.000000</td>\n",
       "      <td>36.000000</td>\n",
       "      <td>123.000000</td>\n",
       "      <td>NaN</td>\n",
       "    </tr>\n",
       "  </tbody>\n",
       "</table>\n",
       "</div>"
      ],
      "text/plain": [
       "              HR(bpm)        SpO2(%)          PI(%)        RR(rpm)  \\\n",
       "count   957813.000000  828777.000000  828102.000000  942901.000000   \n",
       "unique            NaN            NaN            NaN            NaN   \n",
       "top               NaN            NaN            NaN            NaN   \n",
       "freq              NaN            NaN            NaN            NaN   \n",
       "mean        64.683292      95.479754       3.981212      15.894219   \n",
       "std         14.302865       2.875233       2.416226       3.689678   \n",
       "min         30.000000      60.000000       0.060000       5.000000   \n",
       "25%         54.000000      94.000000       2.200000      13.000000   \n",
       "50%         62.000000      96.000000       3.510000      15.000000   \n",
       "75%         74.000000      97.000000       5.270000      18.000000   \n",
       "max        168.000000     100.000000      20.000000      36.000000   \n",
       "\n",
       "           PVCs(/min) anomaly  \n",
       "count   957813.000000  961357  \n",
       "unique            NaN       2  \n",
       "top               NaN   False  \n",
       "freq              NaN  815917  \n",
       "mean         0.629161     NaN  \n",
       "std          2.308404     NaN  \n",
       "min          0.000000     NaN  \n",
       "25%          0.000000     NaN  \n",
       "50%          0.000000     NaN  \n",
       "75%          0.000000     NaN  \n",
       "max        123.000000     NaN  "
      ]
     },
     "execution_count": 15,
     "metadata": {},
     "output_type": "execute_result"
    }
   ],
   "source": [
    "data.describe()"
   ]
  },
  {
   "cell_type": "markdown",
   "id": "34ec0fa7",
   "metadata": {},
   "source": [
    "We first plotted the number of events per patient i.e apnea and hypopnea to see how the distribution events across subjects"
   ]
  },
  {
   "cell_type": "code",
   "execution_count": 31,
   "id": "a7d92b31",
   "metadata": {},
   "outputs": [
    {
     "data": {
      "text/plain": [
       "Text(0.5, 1.0, 'Number of Hypopnea Event for each Patient')"
      ]
     },
     "execution_count": 31,
     "metadata": {},
     "output_type": "execute_result"
    },
    {
     "data": {
      "image/png": "[encoded data removed]",
      "text/plain": [
       "<Figure size 720x504 with 1 Axes>"
      ]
     },
     "metadata": {
      "needs_background": "light"
     },
     "output_type": "display_data"
    }
   ],
   "source": [
    "### plotting counts of hypoapnea events for each patient \n",
    "hypopnea_list = []\n",
    "\n",
    "for i in range(1,31,1):\n",
    "    temp = data[data['patient'] == str(i)]\n",
    "    temp = temp['event'].value_counts()\n",
    "    temp = pd.DataFrame(temp)\n",
    "    temp.reset_index(inplace = True)\n",
    "    hypoapnea = temp.loc[temp['index'] == 'HYPOPNEA']['event'].iloc[0]\n",
    "    hypopnea_list.append(hypoapnea)\n",
    "\n",
    "plt.rcParams[\"figure.figsize\"] = [10, 7]\n",
    "plt.rcParams[\"figure.autolayout\"] = True\n",
    "x_vals = range(1,31,1)\n",
    "plt.bar(x_vals, hypopnea_list, color = 'green')\n",
    "plt.xticks(x_vals)\n",
    "plt.xlabel(\"Subject Number\")\n",
    "plt.ylabel(\"Hypopnea Count\")\n",
    "plt.title(\"Number of Hypopnea Event for each Patient\")"
   ]
  },
  {
   "cell_type": "code",
   "execution_count": 32,
   "id": "e2a0ea2a",
   "metadata": {},
   "outputs": [
    {
     "name": "stdout",
     "output_type": "stream",
     "text": [
      "30\n"
     ]
    },
    {
     "data": {
      "text/plain": [
       "Text(0.5, 1.0, 'Number of Apnea Events for each Patient')"
      ]
     },
     "execution_count": 32,
     "metadata": {},
     "output_type": "execute_result"
    },
    {
     "data": {
      "image/png": "[encoded data removed]",
      "text/plain": [
       "<Figure size 720x504 with 1 Axes>"
      ]
     },
     "metadata": {
      "needs_background": "light"
     },
     "output_type": "display_data"
    }
   ],
   "source": [
    "apnea_list = []\n",
    "print(len(dfs_list))\n",
    "\n",
    "for i in range(0,30,1):\n",
    "    temp = dfs_list[i].query(\"event != 'HYPOPNEA'\").query(\"event != 'NONE'\")\n",
    "    apnea_list.append(len(temp))\n",
    "\n",
    "plt.rcParams[\"figure.figsize\"] = [10, 7]\n",
    "plt.rcParams[\"figure.autolayout\"] = True\n",
    "x_vals = range(1,31,1)\n",
    "plt.bar(x_vals, apnea_list, color = 'green')\n",
    "plt.xticks(x_vals)\n",
    "plt.xlabel(\"Subject Number\")\n",
    "plt.ylabel(\"Apnea count\")\n",
    "plt.title(\"Number of Apnea Events for each Patient\")"
   ]
  },
  {
   "cell_type": "markdown",
   "id": "2e78b5e4",
   "metadata": {},
   "source": [
    "Since we had the recording of a number of vitals in the dataset, it seemed like a good idea to find the relationship between different features. First, we found out the covariance in the dataset between all the numeric values.However, ad can be seen from the table, we were not able to find a statiscially significant result "
   ]
  },
  {
   "cell_type": "code",
   "execution_count": 33,
   "id": "617764bc",
   "metadata": {},
   "outputs": [
    {
     "data": {
      "text/html": [
       "<div>\n",
       "<style scoped>\n",
       "    .dataframe tbody tr th:only-of-type {\n",
       "        vertical-align: middle;\n",
       "    }\n",
       "\n",
       "    .dataframe tbody tr th {\n",
       "        vertical-align: top;\n",
       "    }\n",
       "\n",
       "    .dataframe thead th {\n",
       "        text-align: right;\n",
       "    }\n",
       "</style>\n",
       "<table border=\"1\" class=\"dataframe\">\n",
       "  <thead>\n",
       "    <tr style=\"text-align: right;\">\n",
       "      <th></th>\n",
       "      <th>HR(bpm)</th>\n",
       "      <th>SpO2(%)</th>\n",
       "      <th>PI(%)</th>\n",
       "      <th>RR(rpm)</th>\n",
       "      <th>PVCs(/min)</th>\n",
       "      <th>anomaly</th>\n",
       "    </tr>\n",
       "  </thead>\n",
       "  <tbody>\n",
       "    <tr>\n",
       "      <th>HR(bpm)</th>\n",
       "      <td>204.571948</td>\n",
       "      <td>-4.193349</td>\n",
       "      <td>-9.061032</td>\n",
       "      <td>17.302908</td>\n",
       "      <td>7.391100</td>\n",
       "      <td>-0.008272</td>\n",
       "    </tr>\n",
       "    <tr>\n",
       "      <th>SpO2(%)</th>\n",
       "      <td>-4.193349</td>\n",
       "      <td>8.266963</td>\n",
       "      <td>-1.597757</td>\n",
       "      <td>-1.355408</td>\n",
       "      <td>-0.591348</td>\n",
       "      <td>-0.074999</td>\n",
       "    </tr>\n",
       "    <tr>\n",
       "      <th>PI(%)</th>\n",
       "      <td>-9.061032</td>\n",
       "      <td>-1.597757</td>\n",
       "      <td>5.838146</td>\n",
       "      <td>-1.030264</td>\n",
       "      <td>-0.340358</td>\n",
       "      <td>-0.048826</td>\n",
       "    </tr>\n",
       "    <tr>\n",
       "      <th>RR(rpm)</th>\n",
       "      <td>17.302908</td>\n",
       "      <td>-1.355408</td>\n",
       "      <td>-1.030264</td>\n",
       "      <td>13.613726</td>\n",
       "      <td>1.470620</td>\n",
       "      <td>0.009669</td>\n",
       "    </tr>\n",
       "    <tr>\n",
       "      <th>PVCs(/min)</th>\n",
       "      <td>7.391100</td>\n",
       "      <td>-0.591348</td>\n",
       "      <td>-0.340358</td>\n",
       "      <td>1.470620</td>\n",
       "      <td>5.328729</td>\n",
       "      <td>0.063249</td>\n",
       "    </tr>\n",
       "    <tr>\n",
       "      <th>anomaly</th>\n",
       "      <td>-0.008272</td>\n",
       "      <td>-0.074999</td>\n",
       "      <td>-0.048826</td>\n",
       "      <td>0.009669</td>\n",
       "      <td>0.063249</td>\n",
       "      <td>0.128399</td>\n",
       "    </tr>\n",
       "  </tbody>\n",
       "</table>\n",
       "</div>"
      ],
      "text/plain": [
       "               HR(bpm)   SpO2(%)     PI(%)    RR(rpm)  PVCs(/min)   anomaly\n",
       "HR(bpm)     204.571948 -4.193349 -9.061032  17.302908    7.391100 -0.008272\n",
       "SpO2(%)      -4.193349  8.266963 -1.597757  -1.355408   -0.591348 -0.074999\n",
       "PI(%)        -9.061032 -1.597757  5.838146  -1.030264   -0.340358 -0.048826\n",
       "RR(rpm)      17.302908 -1.355408 -1.030264  13.613726    1.470620  0.009669\n",
       "PVCs(/min)    7.391100 -0.591348 -0.340358   1.470620    5.328729  0.063249\n",
       "anomaly      -0.008272 -0.074999 -0.048826   0.009669    0.063249  0.128399"
      ]
     },
     "execution_count": 33,
     "metadata": {},
     "output_type": "execute_result"
    }
   ],
   "source": [
    "data.cov()"
   ]
  },
  {
   "cell_type": "markdown",
   "id": "aa8a279a",
   "metadata": {},
   "source": [
    "Next, we created a correlation matrix to see if any correlations exist"
   ]
  },
  {
   "cell_type": "code",
   "execution_count": 99,
   "id": "0724f9a0",
   "metadata": {},
   "outputs": [
    {
     "data": {
      "text/html": [
       "<div>\n",
       "<style scoped>\n",
       "    .dataframe tbody tr th:only-of-type {\n",
       "        vertical-align: middle;\n",
       "    }\n",
       "\n",
       "    .dataframe tbody tr th {\n",
       "        vertical-align: top;\n",
       "    }\n",
       "\n",
       "    .dataframe thead th {\n",
       "        text-align: right;\n",
       "    }\n",
       "</style>\n",
       "<table border=\"1\" class=\"dataframe\">\n",
       "  <thead>\n",
       "    <tr style=\"text-align: right;\">\n",
       "      <th></th>\n",
       "      <th>HR(bpm)</th>\n",
       "      <th>SpO2(%)</th>\n",
       "      <th>PI(%)</th>\n",
       "      <th>RR(rpm)</th>\n",
       "      <th>PVCs(/min)</th>\n",
       "      <th>anomaly</th>\n",
       "    </tr>\n",
       "  </thead>\n",
       "  <tbody>\n",
       "    <tr>\n",
       "      <th>HR(bpm)</th>\n",
       "      <td>1.000000</td>\n",
       "      <td>-0.104769</td>\n",
       "      <td>-0.269432</td>\n",
       "      <td>0.326877</td>\n",
       "      <td>0.223859</td>\n",
       "      <td>-0.001612</td>\n",
       "    </tr>\n",
       "    <tr>\n",
       "      <th>SpO2(%)</th>\n",
       "      <td>-0.104769</td>\n",
       "      <td>1.000000</td>\n",
       "      <td>-0.230038</td>\n",
       "      <td>-0.129233</td>\n",
       "      <td>-0.095152</td>\n",
       "      <td>-0.071342</td>\n",
       "    </tr>\n",
       "    <tr>\n",
       "      <th>PI(%)</th>\n",
       "      <td>-0.269432</td>\n",
       "      <td>-0.230038</td>\n",
       "      <td>1.000000</td>\n",
       "      <td>-0.116478</td>\n",
       "      <td>-0.065236</td>\n",
       "      <td>-0.055264</td>\n",
       "    </tr>\n",
       "    <tr>\n",
       "      <th>RR(rpm)</th>\n",
       "      <td>0.326877</td>\n",
       "      <td>-0.129233</td>\n",
       "      <td>-0.116478</td>\n",
       "      <td>1.000000</td>\n",
       "      <td>0.176559</td>\n",
       "      <td>0.007326</td>\n",
       "    </tr>\n",
       "    <tr>\n",
       "      <th>PVCs(/min)</th>\n",
       "      <td>0.223859</td>\n",
       "      <td>-0.095152</td>\n",
       "      <td>-0.065236</td>\n",
       "      <td>0.176559</td>\n",
       "      <td>1.000000</td>\n",
       "      <td>0.076380</td>\n",
       "    </tr>\n",
       "    <tr>\n",
       "      <th>anomaly</th>\n",
       "      <td>-0.001612</td>\n",
       "      <td>-0.071342</td>\n",
       "      <td>-0.055264</td>\n",
       "      <td>0.007326</td>\n",
       "      <td>0.076380</td>\n",
       "      <td>1.000000</td>\n",
       "    </tr>\n",
       "  </tbody>\n",
       "</table>\n",
       "</div>"
      ],
      "text/plain": [
       "             HR(bpm)   SpO2(%)     PI(%)   RR(rpm)  PVCs(/min)   anomaly\n",
       "HR(bpm)     1.000000 -0.104769 -0.269432  0.326877    0.223859 -0.001612\n",
       "SpO2(%)    -0.104769  1.000000 -0.230038 -0.129233   -0.095152 -0.071342\n",
       "PI(%)      -0.269432 -0.230038  1.000000 -0.116478   -0.065236 -0.055264\n",
       "RR(rpm)     0.326877 -0.129233 -0.116478  1.000000    0.176559  0.007326\n",
       "PVCs(/min)  0.223859 -0.095152 -0.065236  0.176559    1.000000  0.076380\n",
       "anomaly    -0.001612 -0.071342 -0.055264  0.007326    0.076380  1.000000"
      ]
     },
     "execution_count": 99,
     "metadata": {},
     "output_type": "execute_result"
    }
   ],
   "source": [
    "## Correlation relationship also explored \n",
    "data.corr(method = 'pearson')"
   ]
  },
  {
   "cell_type": "code",
   "execution_count": 11,
   "id": "db574586",
   "metadata": {},
   "outputs": [
    {
     "data": {
      "text/plain": [
       "Text(0.5, 1.0, 'Duration of recording for each patient in hours')"
      ]
     },
     "execution_count": 11,
     "metadata": {},
     "output_type": "execute_result"
    },
    {
     "data": {
      "image/png": "[encoded data removed]",
      "text/plain": [
       "<Figure size 720x504 with 1 Axes>"
      ]
     },
     "metadata": {
      "needs_background": "light"
     },
     "output_type": "display_data"
    }
   ],
   "source": [
    "## finding the duration of time for each patient\n",
    "count = 1\n",
    "list_duration = []\n",
    "for df in dfs_list:\n",
    "    temp = list(df['timestamp_datetime'])\n",
    "    t1 = temp[0]\n",
    "    t2 = temp[-1]\n",
    "    duration = round((t2 - t1).total_seconds() / 3600,1)\n",
    "    list_duration.append(duration)\n",
    "\n",
    "plt.rcParams[\"figure.figsize\"] = [10, 7]\n",
    "plt.rcParams[\"figure.autolayout\"] = True\n",
    "x_vals = range(1,31,1)\n",
    "plt.plot(x_vals, list_duration, color = 'purple')\n",
    "plt.xticks(x_vals)\n",
    "plt.xlabel(\"Subject Number\")\n",
    "plt.ylabel(\"Duration of recording (hrs)\")\n",
    "plt.title(\"Duration of recording for each patient in hours\")"
   ]
  },
  {
   "cell_type": "markdown",
   "id": "0bb48409",
   "metadata": {},
   "source": [
    "As can be seen, there is a significant difference in the duration of recording between the subjects, especially for subject 6 and 12. Later as we analyse the data, we will explore further how that factors into the detection of apnea events"
   ]
  }
 ],
 "metadata": {
  "kernelspec": {
   "display_name": "Python 3.10.4 64-bit",
   "language": "python",
   "name": "python3"
  },
  "language_info": {
   "codemirror_mode": {
    "name": "ipython",
    "version": 3
   },
   "file_extension": ".py",
   "mimetype": "text/x-python",
   "name": "python",
   "nbconvert_exporter": "python",
   "pygments_lexer": "ipython3",
   "version": "3.10.4"
  },
  "vscode": {
   "interpreter": {
    "hash": "1ade3842e6845b08dc64a23e152eb76989fffca3106b45d5605096b5a3277c8b"
   }
  }
 },
 "nbformat": 4,
 "nbformat_minor": 5
}
