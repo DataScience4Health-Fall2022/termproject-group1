{
 "cells": [
  {
   "cell_type": "code",
   "execution_count": 3,
   "id": "a370109f",
   "metadata": {},
   "outputs": [
    {
     "ename": "ModuleNotFoundError",
     "evalue": "No module named 'pandas'",
     "output_type": "error",
     "traceback": [
      "\u001b[0;31m---------------------------------------------------------------------------\u001b[0m",
      "\u001b[0;31mModuleNotFoundError\u001b[0m                       Traceback (most recent call last)",
      "Input \u001b[0;32mIn [3]\u001b[0m, in \u001b[0;36m<cell line: 1>\u001b[0;34m()\u001b[0m\n\u001b[0;32m----> 1\u001b[0m \u001b[38;5;28;01mimport\u001b[39;00m \u001b[38;5;21;01mpandas\u001b[39;00m \u001b[38;5;28;01mas\u001b[39;00m \u001b[38;5;21;01mpd\u001b[39;00m\n\u001b[1;32m      2\u001b[0m \u001b[38;5;28;01mimport\u001b[39;00m \u001b[38;5;21;01mnumpy\u001b[39;00m \u001b[38;5;28;01mas\u001b[39;00m \u001b[38;5;21;01mnp\u001b[39;00m\n\u001b[1;32m      3\u001b[0m \u001b[38;5;28;01mimport\u001b[39;00m \u001b[38;5;21;01mpickle\u001b[39;00m\n",
      "\u001b[0;31mModuleNotFoundError\u001b[0m: No module named 'pandas'"
     ]
    }
   ],
   "source": [
    "import pandas as pd\n",
    "import numpy as np\n",
    "import gc\n",
    "import pickle\n",
    "from matplotlib import pyplot as plt\n",
    "from datetime import datetime\n",
    "import time\n",
    "\n",
    "from IPython.core.interactiveshell import InteractiveShell\n",
    "InteractiveShell.ast_node_interactivity = \"all\"\n",
    "\n",
    "%matplotlib inline\n",
    "import seaborn as sns\n",
    "\n",
    "from sklearn import metrics\n",
    "\n",
    "from sklearn.model_selection import cross_validate, GridSearchCV\n",
    "from sklearn.model_selection import train_test_split\n",
    "pd.set_option('display.max_columns', None)\n",
    "sns.set()"
   ]
  },
  {
   "cell_type": "markdown",
   "id": "38efd761",
   "metadata": {},
   "source": [
    "Given that the dataset contains recordings of vitals for 30 patients, to make the data easy to handle, we first created a list of dataframes where each dataframe contained per patient data"
   ]
  },
  {
   "cell_type": "code",
   "execution_count": 2,
   "id": "9eedfb1f",
   "metadata": {},
   "outputs": [],
   "source": [
    "## a list to store the data for each patient \n",
    "dfs_list = []"
   ]
  },
  {
   "cell_type": "markdown",
   "id": "54c317ad",
   "metadata": {},
   "source": [
    "We first start by loading the data..."
   ]
  },
  {
   "cell_type": "code",
   "execution_count": null,
   "id": "8e5ab7d4",
   "metadata": {},
   "outputs": [],
   "source": [
    "f = open('./dataset_OSAS.pickle', 'rb')\n",
    "data = pickle.load(f)\n",
    "f.close()"
   ]
  },
  {
   "cell_type": "markdown",
   "id": "634df263",
   "metadata": {},
   "source": [
    "Here we parse the entire data, remove duplicates and initialize the list of dataframes"
   ]
  },
  {
   "cell_type": "code",
   "execution_count": null,
   "id": "66e728fe",
   "metadata": {},
   "outputs": [],
   "source": [
    "## dropping duplicates from the data \n",
    "for i in range(1,31,1):\n",
    "    df = data[data['patient'] == str(i)]\n",
    "    df.drop_duplicates(subset=['timestamp_datetime'], inplace=True)\n",
    "    dfs_list.append(df)"
   ]
  },
  {
   "cell_type": "markdown",
   "id": "030625b1",
   "metadata": {},
   "source": [
    "As a first step towards EDA, we first wanted to see different statistics associated with each feature for our better understanding of the nature of the data we are handling"
   ]
  },
  {
   "cell_type": "code",
   "execution_count": null,
   "id": "a92997b3",
   "metadata": {},
   "outputs": [],
   "source": [
    "data.describe()"
   ]
  },
  {
   "cell_type": "markdown",
   "id": "187ebfa0",
   "metadata": {},
   "source": [
    "We first plotted the number of events per patient i.e apnea and hypopnea to see how the distribution events across subjects"
   ]
  },
  {
   "cell_type": "code",
   "execution_count": null,
   "id": "3447093f",
   "metadata": {},
   "outputs": [],
   "source": [
    "### plotting counts of hypoapnea events for each patient \n",
    "hypopnea_list = []\n",
    "\n",
    "for i in range(1,31,1):\n",
    "    temp = data[data['patient'] == str(i)]\n",
    "    temp = temp['event'].value_counts()\n",
    "    temp = pd.DataFrame(temp)\n",
    "    temp.reset_index(inplace = True)\n",
    "    hypoapnea = temp.loc[temp['index'] == 'HYPOPNEA']['event'].iloc[0]\n",
    "    hypopnea_list.append(hypoapnea)\n",
    "\n",
    "plt.rcParams[\"figure.figsize\"] = [10, 7]\n",
    "plt.rcParams[\"figure.autolayout\"] = True\n",
    "x_vals = range(1,31,1)\n",
    "plt.bar(x_vals, hypopnea_list, color = 'green')\n",
    "plt.xticks(x_vals)\n",
    "plt.xlabel(\"Subject Number\")\n",
    "plt.ylabel(\"Hypopnea Count\")\n",
    "plt.title(\"Number of Hypopnea Event for each Patient\")"
   ]
  },
  {
   "cell_type": "code",
   "execution_count": null,
   "id": "6551a863",
   "metadata": {},
   "outputs": [],
   "source": [
    "apnea_list = []\n",
    "print(len(dfs_list))\n",
    "\n",
    "for i in range(0,30,1):\n",
    "    temp = dfs_list[i].query(\"event != 'HYPOPNEA'\").query(\"event != 'NONE'\")\n",
    "    apnea_list.append(len(temp))\n",
    "\n",
    "plt.rcParams[\"figure.figsize\"] = [10, 7]\n",
    "plt.rcParams[\"figure.autolayout\"] = True\n",
    "x_vals = range(1,31,1)\n",
    "plt.bar(x_vals, apnea_list, color = 'green')\n",
    "plt.xticks(x_vals)\n",
    "plt.xlabel(\"Subject Number\")\n",
    "plt.ylabel(\"Apnea count\")\n",
    "plt.title(\"Number of Apnea Events for each Patient\")"
   ]
  },
  {
   "cell_type": "markdown",
   "id": "399b1a48",
   "metadata": {},
   "source": [
    "Since we had the recording of a number of vitals in the dataset, it seemed like a good idea to find the relationship between different features. First, we found out the covariance in the dataset between all the numeric values.However, ad can be seen from the table, we were not able to find a statiscially significant result"
   ]
  },
  {
   "cell_type": "code",
   "execution_count": null,
   "id": "c92ebd80",
   "metadata": {},
   "outputs": [],
   "source": [
    "data.cov()"
   ]
  },
  {
   "cell_type": "markdown",
   "id": "3055ede4",
   "metadata": {},
   "source": [
    "Next, we created a correlation matrix to see if any correlations exist"
   ]
  },
  {
   "cell_type": "code",
   "execution_count": null,
   "id": "8545c72c",
   "metadata": {},
   "outputs": [],
   "source": [
    "## finding the duration of time for each patient\n",
    "count = 1\n",
    "list_duration = []\n",
    "for df in dfs_list:\n",
    "    temp = list(df['timestamp_datetime'])\n",
    "    t1 = temp[0]\n",
    "    t2 = temp[-1]\n",
    "    duration = round((t2 - t1).total_seconds() / 3600,1)\n",
    "    list_duration.append(duration)\n",
    "\n",
    "plt.rcParams[\"figure.figsize\"] = [10, 7]\n",
    "plt.rcParams[\"figure.autolayout\"] = True\n",
    "x_vals = range(1,31,1)\n",
    "plt.plot(x_vals, list_duration, color = 'purple')\n",
    "plt.xticks(x_vals)\n",
    "plt.xlabel(\"Subject Number\")\n",
    "plt.ylabel(\"Duration of recording (hrs)\")\n",
    "plt.title(\"Duration of recording for each patient in hours\")"
   ]
  },
  {
   "cell_type": "markdown",
   "id": "58a8f0ba",
   "metadata": {},
   "source": [
    "As can be seen, there is a significant difference in the duration of recording between the subjects, especially for subject 6 and 12. Later as we analyse the data, we will explore further how that factors into the detection of apnea events."
   ]
  },
  {
   "cell_type": "markdown",
   "id": "de0c688a",
   "metadata": {},
   "source": [
    "Next we attempt to get an understanding of data ranges."
   ]
  },
  {
   "cell_type": "code",
   "execution_count": null,
   "id": "aaedb02b",
   "metadata": {},
   "outputs": [],
   "source": [
    "features = ['RR(rpm)', 'HR(bpm)', 'SpO2(%)', 'PI(%)', 'PVCs(/min)']\n",
    "\n",
    "fig, ax = plt.subplots(nrows=len(features), ncols=1, figsize=(20,20))\n",
    "\n",
    "## For each feature for the each patient, do a box plot\n",
    "for index in range(len(features)):\n",
    "    ax[index].set_title(features[index])\n",
    "    \n",
    "    patient_data = []\n",
    "    for patient_id in np.unique(data['patient']):\n",
    "        temp = data[data['patient'] == patient_id][features[index]]\n",
    "        patient_data.append([x for x in list(temp.values) if not np.isnan(x)] )\n",
    "    \n",
    "    ax[index].boxplot(patient_data)\n",
    "\n",
    "plt.show()"
   ]
  },
  {
   "cell_type": "code",
   "execution_count": null,
   "id": "95648665",
   "metadata": {},
   "outputs": [],
   "source": [
    "## Plot an hour of data for each of the features\n",
    "## If you notice, the plots for SpO2 and PI% don't begin until around 2100 for patient 1\n",
    "## The values for the first portions of the data are NaNs so the data is missing\n",
    "## The fact that there is missing data can be seen more clearly in the bottom table where there is\n",
    "##   approximately 8% data missing for both of these features.\n",
    "## I believe that these two measurements are often collected via the same device so it is likely that\n",
    "##   the NaNs are place values for the time prior to hooking up the device.\n",
    "## In addition, the red markings on the time series plot indicates hypopnea events marked by a clinician\n",
    "##   while the purple marking indicates an apnea event. Idealy we would be able to see some correlation.\n",
    "\n",
    "## Takes a set of patient data (assumes only a single patient) and a start and end then returns\n",
    "##    a list of start and ending tuples. You can also specify the types it expects a list of\n",
    "##    the valid types such as ['APNEA-CENTRAL' 'APNEA-MIXED' 'APNEA-OBSTRUCTIVE' 'HYPOPNEA' 'NONE']\n",
    "def get_list_of_events(df, start, end, event_type):\n",
    "    \n",
    "    ## Will be in the format of [ (start1, end1), (start2, end2)] ]\n",
    "    event_list = []\n",
    "    \n",
    "    current_start = 0\n",
    "    \n",
    "    ## State identifier if we are inside of an event range or out of it\n",
    "    in_event = 0\n",
    "    \n",
    "    for i in range(start, end + 1):\n",
    "        ## We are in an event if it is both the correct type and we have encountered a 1\n",
    "        if df['anomaly'][i] == 1 and in_event == 0 and df['event'][i] in event_type:\n",
    "            in_event = 1\n",
    "            current_start = i\n",
    "        elif df['anomaly'][i] == 1 and in_event == 1 and df['event'][i] not in event_type:\n",
    "            ## If we are in an event and the type switches we have to stop\n",
    "            in_event = 0\n",
    "            event_list.append( (current_start, i - 1) )\n",
    "        elif df['anomaly'][i] == 0 and in_event == 1:\n",
    "            in_event = 0\n",
    "            event_list.append( (current_start, i - 1) )\n",
    "    \n",
    "    return event_list\n",
    "        \n",
    "fig, ax = plt.subplots(nrows=len(features), ncols=1, figsize=(20,20))\n",
    "\n",
    "## For each feature for the first patient, graph a time series over the first hour of monitoring\n",
    "for index in range(len(features)):\n",
    "    ax[index].set_title(features[index])\n",
    "    \n",
    "    ## Only take the first hour of data\n",
    "    plot_data = data[data['patient'] == '1'][features[index]].head(3600)\n",
    "    \n",
    "    ax[index].plot(list(range(0,3600)), plot_data, color='b')\n",
    "    \n",
    "    apnea_events = get_list_of_events(data[data['patient'] == '1'], 0, 3600, ['APNEA-CENTRAL','APNEA-MIXED','APNEA-OBSTRUCTIVE'])\n",
    "    hypopnea_events = get_list_of_events(data[data['patient'] == '1'], 0, 3600, ['HYPOPNEA'])\n",
    "    \n",
    "    for start, end in apnea_events:\n",
    "        ax[index].axvspan(start, end, color=\"purple\", alpha=0.3)\n",
    "        \n",
    "    for start, end in hypopnea_events:\n",
    "        ax[index].axvspan(start, end, color=\"red\", alpha=0.3)\n",
    "    \n",
    "plt.show()"
   ]
  },
  {
   "cell_type": "code",
   "execution_count": null,
   "id": "c547e539",
   "metadata": {},
   "outputs": [],
   "source": [
    "## Calculate missing data %\n",
    "\n",
    "## Some of these patients have significant chunks of missing data primarily in regards to SpO2 and PI%\n",
    "##  Given how much is missing we may not be able to depend too heavily on these features for training our model.\n",
    "\n",
    "patient_missing = {}\n",
    "\n",
    "for feat in features:\n",
    "\n",
    "    patient_missing[feat] = []\n",
    "    \n",
    "    for patient_id in np.unique(data['patient']):\n",
    "        temp = data[data['patient'] == patient_id][feat]\n",
    "        vals = list(temp.values)\n",
    "        missing = len([x for x in vals if np.isnan(x)] ) / len(vals)\n",
    "        patient_missing[feat].append(missing)\n",
    "\n",
    "df = pd.DataFrame(patient_missing, index = np.unique(data['patient']))\n",
    "display(df)"
   ]
  },
  {
   "cell_type": "code",
   "execution_count": null,
   "id": "bb74493b",
   "metadata": {},
   "outputs": [],
   "source": [
    "# Chose three random patients to show \n",
    "pt_nums = ['9', '17', '21']\n",
    "events = ['PSG_Flow', 'PSG_Abdomen', 'PSG_Position', 'PSG_Snore', 'PSG_Thorax']"
   ]
  },
  {
   "cell_type": "code",
   "execution_count": null,
   "id": "5fb7481f",
   "metadata": {},
   "outputs": [],
   "source": [
    "for pt_num in pt_nums:\n",
    "    patient = data[data['patient'] == pt_num]\n",
    "    time = patient['timestamp_datetime']\n",
    "    event = patient['event']\n",
    "    \n",
    "    for e in events:\n",
    "\n",
    "        psg = patient[e]\n",
    "\n",
    "        # collecting the data in an easier form to plot\n",
    "        huge_arr = []\n",
    "        time_arr = []\n",
    "        event_arr = []\n",
    "        for i in event.index:\n",
    "            event_arr = np.append(event_arr, event[i])\n",
    "            huge_arr = np.append(huge_arr, psg[i])\n",
    "            time_arr = np.append(time_arr, time[i])\n",
    "\n",
    "        # setting up plots -- 4000 was a number of points I chose that I thought \n",
    "        # didn't look too crowded in the space allocated for the plot\n",
    "        num_plots = int(len(time_arr)/4000)\n",
    "        fig, axs = plt.subplots(num_plots)\n",
    "        fig.set_figheight(10)\n",
    "        fig.set_figwidth(20)\n",
    "        fig.tight_layout()\n",
    "        start = 0\n",
    "        end = 4000\n",
    "        for i in range(num_plots):\n",
    "            # find the hypopnea and apnea events\n",
    "            hypopnea = (event_arr[start:end] == 'HYPOPNEA')\n",
    "            apnea = (event_arr[start:end] == 'APNEA-OBSTRUCTIVE')\n",
    "            # plot the time series\n",
    "            axs[i].plot(time_arr[start:end], huge_arr[start:end])\n",
    "            # plot the hypopnea and apnea events\n",
    "            for j in range(len(hypopnea)):\n",
    "                if hypoapnea[j] == True:\n",
    "                    axs[i].axvline(time_arr[start:end][j], color='red', alpha=0.1)\n",
    "            for j in range(len(apnea)):\n",
    "                if apnea[j] == True:\n",
    "                    axs[i].axvline(time_arr[start:end][j], color='purple', alpha=0.1)\n",
    "            start += 4000\n",
    "            end += 4000\n",
    "\n",
    "        axs[0].set_title(str(e) + \" for Patient \"+ str(pt_num)+\", Red = Hypopnea, Purple = Apnea\")\n",
    "        axs[num_plots-1].set_xlabel(\"Time\")"
   ]
  },
  {
   "cell_type": "code",
   "execution_count": null,
   "id": "43dd9204",
   "metadata": {},
   "outputs": [],
   "source": [
    "ecg_events = ['signal_ecg_i', 'signal_ecg_ii', 'signal_ecg_iii']"
   ]
  },
  {
   "cell_type": "code",
   "execution_count": null,
   "id": "f1e15714",
   "metadata": {},
   "outputs": [],
   "source": [
    "#signal_ecg_i\n",
    "\n",
    "for pt_num in pt_nums:\n",
    "    patient = data[data['patient'] == pt_num]\n",
    "    time = patient['timestamp_datetime']\n",
    "    event = patient['event']\n",
    "    \n",
    "    # collecting the data in an easier form to plot\n",
    "    for e in ecg_events:\n",
    "\n",
    "        ecg = patient[e]\n",
    "\n",
    "        huge_arr = []\n",
    "        time_arr = []\n",
    "        event_arr = []\n",
    "        for i in event.index:\n",
    "            event_arr = np.append(event_arr, event[i])\n",
    "            huge_arr = np.append(huge_arr, ecg[i])\n",
    "            time_arr = np.append(time_arr, time[i])\n",
    "\n",
    "        # setting up plots -- 4000 was a number of points I chose that I thought \n",
    "        # didn't look too crowded in the space allocated for the plot\n",
    "        num_plots = int(len(time_arr)/4000)\n",
    "        fig, axs = plt.subplots(num_plots)\n",
    "        fig.set_figheight(10)\n",
    "        fig.set_figwidth(20)\n",
    "        fig.tight_layout()\n",
    "        start = 0\n",
    "        end = 4000\n",
    "        for i in range(num_plots):\n",
    "            # find the hypopnea and apnea events\n",
    "            hypopnea = (event_arr[start:end] == 'HYPOPNEA')\n",
    "            apnea = (event_arr[start:end] == 'APNEA-OBSTRUCTIVE')\n",
    "            # plot the time series\n",
    "            axs[i].plot(time_arr[start:end], huge_arr[start:end])\n",
    "            # plot the hypopnea and apnea events\n",
    "            for j in range(len(hypoapnea)):\n",
    "                if hypoapnea[j] == True:\n",
    "                    axs[i].axvline(time_arr[start:end][j], color='red', alpha=0.1)\n",
    "            for j in range(len(apnea)):\n",
    "                if apnea[j] == True:\n",
    "                    axs[i].axvline(time_arr[start:end][j], color='purple', alpha=0.1)\n",
    "            start += 4000\n",
    "            end += 4000\n",
    "\n",
    "        axs[0].set_title(str(e) + \" for Patient \"+ str(pt_num)+\", Red = Hypopnea, Purple = Apnea\")\n",
    "        axs[num_plots-1].set_xlabel(\"Time\")"
   ]
  },
  {
   "cell_type": "code",
   "execution_count": null,
   "id": "fbe31eac",
   "metadata": {},
   "outputs": [],
   "source": [
    "sns.violinplot(np.log(data['RR(rpm)']))"
   ]
  },
  {
   "cell_type": "code",
   "execution_count": null,
   "id": "f9adace9",
   "metadata": {},
   "outputs": [],
   "source": [
    "sns.violinplot(np.log(data['HR(bpm)']))"
   ]
  },
  {
   "cell_type": "code",
   "execution_count": null,
   "id": "0afd166f",
   "metadata": {},
   "outputs": [],
   "source": [
    "sns.violinplot(np.log(data['SpO2(%)']))"
   ]
  },
  {
   "cell_type": "code",
   "execution_count": null,
   "id": "1cf9ec4e",
   "metadata": {},
   "outputs": [],
   "source": [
    "sns.distplot(data['HR(bpm)'])"
   ]
  },
  {
   "cell_type": "code",
   "execution_count": null,
   "id": "7492078d",
   "metadata": {},
   "outputs": [],
   "source": [
    "sns.distplot(data['SpO2(%)'])"
   ]
  },
  {
   "cell_type": "code",
   "execution_count": null,
   "id": "5268fd09",
   "metadata": {},
   "outputs": [],
   "source": [
    "num_cols=dataset.columns\n",
    "dataset.corr() "
   ]
  },
  {
   "cell_type": "code",
   "execution_count": null,
   "id": "38597008",
   "metadata": {},
   "outputs": [],
   "source": [
    "dataset.corr('spearman')"
   ]
  },
  {
   "cell_type": "code",
   "execution_count": null,
   "id": "8d6f65e5",
   "metadata": {},
   "outputs": [],
   "source": [
    "df = pd.DataFrame(dataset, columns=['RR(rpm)', 'HR(bpm)', 'SpO2(%)', 'PI(%)', 'PVCs(/min)'])\n",
    "\n",
    "df.plot.area(stacked=False);"
   ]
  },
  {
   "cell_type": "code",
   "execution_count": null,
   "id": "faae8b11",
   "metadata": {},
   "outputs": [],
   "source": [
    "from pandas.plotting import scatter_matrix\n",
    "\n",
    "df = pd.DataFrame(dataset, columns=['RR(rpm)', 'HR(bpm)', 'SpO2(%)', 'PI(%)'])\n",
    "\n",
    "scatter_matrix(df, alpha=0.2, figsize=(6, 6), diagonal=\"kde\");"
   ]
  },
  {
   "cell_type": "code",
   "execution_count": null,
   "id": "5ac147f5",
   "metadata": {},
   "outputs": [],
   "source": []
  }
 ],
 "metadata": {
  "kernelspec": {
   "display_name": "Python 3 (ipykernel)",
   "language": "python",
   "name": "python3"
  },
  "language_info": {
   "codemirror_mode": {
    "name": "ipython",
    "version": 3
   },
   "file_extension": ".py",
   "mimetype": "text/x-python",
   "name": "python",
   "nbconvert_exporter": "python",
   "pygments_lexer": "ipython3",
   "version": "3.10.5"
  }
 },
 "nbformat": 4,
 "nbformat_minor": 5
}
